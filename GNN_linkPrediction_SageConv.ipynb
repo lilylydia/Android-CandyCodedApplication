{
  "cells": [
    {
      "cell_type": "markdown",
      "metadata": {
        "id": "view-in-github",
        "colab_type": "text"
      },
      "source": [
        "<a href=\"https://colab.research.google.com/github/lilylydia/Android-CandyCodedApplication/blob/master/GNN_linkPrediction_SageConv.ipynb\" target=\"_parent\"><img src=\"https://colab.research.google.com/assets/colab-badge.svg\" alt=\"Open In Colab\"/></a>"
      ]
    },
    {
      "cell_type": "code",
      "execution_count": null,
      "metadata": {
        "colab": {
          "base_uri": "https://localhost:8080/"
        },
        "id": "vW5fc2b7ujqi",
        "outputId": "aa08b4dd-ff41-4f85-d2f9-85383c7294be"
      },
      "outputs": [
        {
          "output_type": "stream",
          "name": "stdout",
          "text": [
            "\u001b[2K     \u001b[90m━━━━━━━━━━━━━━━━━━━━━━━━━━━━━━━━━━━━━━━━\u001b[0m \u001b[32m10.8/10.8 MB\u001b[0m \u001b[31m84.1 MB/s\u001b[0m eta \u001b[36m0:00:00\u001b[0m\n",
            "\u001b[2K     \u001b[90m━━━━━━━━━━━━━━━━━━━━━━━━━━━━━━━━━━━━━━━━\u001b[0m \u001b[32m5.0/5.0 MB\u001b[0m \u001b[31m42.8 MB/s\u001b[0m eta \u001b[36m0:00:00\u001b[0m\n",
            "\u001b[2K     \u001b[90m━━━━━━━━━━━━━━━━━━━━━━━━━━━━━━━━━━━━━━━━\u001b[0m \u001b[32m3.3/3.3 MB\u001b[0m \u001b[31m33.8 MB/s\u001b[0m eta \u001b[36m0:00:00\u001b[0m\n",
            "\u001b[2K     \u001b[90m━━━━━━━━━━━━━━━━━━━━━━━━━━━━━━━━━━━━━━━━\u001b[0m \u001b[32m932.1/932.1 kB\u001b[0m \u001b[31m15.4 MB/s\u001b[0m eta \u001b[36m0:00:00\u001b[0m\n",
            "\u001b[2K     \u001b[90m━━━━━━━━━━━━━━━━━━━━━━━━━━━━━━━━━━━━━━━━\u001b[0m \u001b[32m1.1/1.1 MB\u001b[0m \u001b[31m6.8 MB/s\u001b[0m eta \u001b[36m0:00:00\u001b[0m\n",
            "\u001b[?25h"
          ]
        }
      ],
      "source": [
        "!pip install -q torch-scatter -f https://pytorch-geometric.com/whl/torch-2.1.0+cu121.html\n",
        "!pip install -q torch-sparse -f https://pytorch-geometric.com/whl/torch-2.1.0+cu121.html\n",
        "!pip install -q torch-cluster -f https://pytorch-geometric.com/whl/torch-2.1.0+cu121.html\n",
        "!pip install -q torch-spline-conv -f https://pytorch-geometric.com/whl/torch-2.1.0+cu121.html\n",
        "!pip install -q torch-geometric"
      ]
    },
    {
      "cell_type": "code",
      "execution_count": null,
      "metadata": {
        "colab": {
          "base_uri": "https://localhost:8080/"
        },
        "id": "-SIaepmMvbmh",
        "outputId": "4b78d90e-1b85-4641-8761-25acf55cfab8"
      },
      "outputs": [
        {
          "output_type": "stream",
          "name": "stdout",
          "text": [
            "Looking in links: https://pytorch-geometric.com/whl/torch-2.1.0+cu121.html\n",
            "Collecting pyg-lib\n",
            "  Downloading https://data.pyg.org/whl/torch-2.1.0%2Bcu121/pyg_lib-0.4.0%2Bpt21cu121-cp310-cp310-linux_x86_64.whl (2.5 MB)\n",
            "\u001b[2K     \u001b[90m━━━━━━━━━━━━━━━━━━━━━━━━━━━━━━━━━━━━━━━━\u001b[0m \u001b[32m2.5/2.5 MB\u001b[0m \u001b[31m26.3 MB/s\u001b[0m eta \u001b[36m0:00:00\u001b[0m\n",
            "\u001b[?25hInstalling collected packages: pyg-lib\n",
            "Successfully installed pyg-lib-0.4.0+pt21cu121\n"
          ]
        }
      ],
      "source": [
        "!pip install pyg-lib -f https://pytorch-geometric.com/whl/torch-2.1.0+cu121.html"
      ]
    },
    {
      "cell_type": "code",
      "execution_count": null,
      "metadata": {
        "id": "i2fEL3lyi8hO"
      },
      "outputs": [],
      "source": [
        "#!pip install torch_geometric\n",
        "#!pip install torch-sparse -f https://pytorch-geometric.com/whl/torch-2.1.0+cu121.html"
      ]
    },
    {
      "cell_type": "code",
      "execution_count": null,
      "metadata": {
        "id": "Ob_sX6486dwq",
        "colab": {
          "base_uri": "https://localhost:8080/",
          "height": 383
        },
        "outputId": "9a485ae2-a553-4e3f-fdda-d7053d5ba5f2"
      },
      "outputs": [
        {
          "output_type": "error",
          "ename": "ModuleNotFoundError",
          "evalue": "No module named 'torch_geometric'",
          "traceback": [
            "\u001b[0;31m---------------------------------------------------------------------------\u001b[0m",
            "\u001b[0;31mModuleNotFoundError\u001b[0m                       Traceback (most recent call last)",
            "\u001b[0;32m<ipython-input-2-1715051feb7f>\u001b[0m in \u001b[0;36m<cell line: 1>\u001b[0;34m()\u001b[0m\n\u001b[0;32m----> 1\u001b[0;31m \u001b[0;32mfrom\u001b[0m \u001b[0mtorch_geometric\u001b[0m\u001b[0;34m.\u001b[0m\u001b[0mdata\u001b[0m \u001b[0;32mimport\u001b[0m \u001b[0mdownload_url\u001b[0m\u001b[0;34m,\u001b[0m \u001b[0mextract_zip\u001b[0m\u001b[0;34m\u001b[0m\u001b[0;34m\u001b[0m\u001b[0m\n\u001b[0m\u001b[1;32m      2\u001b[0m \u001b[0;32mimport\u001b[0m \u001b[0mpandas\u001b[0m \u001b[0;32mas\u001b[0m \u001b[0mpd\u001b[0m\u001b[0;34m\u001b[0m\u001b[0;34m\u001b[0m\u001b[0m\n\u001b[1;32m      3\u001b[0m \u001b[0;32mimport\u001b[0m \u001b[0mnumpy\u001b[0m \u001b[0;32mas\u001b[0m \u001b[0mnp\u001b[0m\u001b[0;34m\u001b[0m\u001b[0;34m\u001b[0m\u001b[0m\n\u001b[1;32m      4\u001b[0m \u001b[0;32mimport\u001b[0m \u001b[0mtorch\u001b[0m\u001b[0;34m\u001b[0m\u001b[0;34m\u001b[0m\u001b[0m\n\u001b[1;32m      5\u001b[0m \u001b[0;32mfrom\u001b[0m \u001b[0mtorch\u001b[0m\u001b[0;34m.\u001b[0m\u001b[0mnn\u001b[0m \u001b[0;32mimport\u001b[0m \u001b[0mLinear\u001b[0m\u001b[0;34m\u001b[0m\u001b[0;34m\u001b[0m\u001b[0m\n",
            "\u001b[0;31mModuleNotFoundError\u001b[0m: No module named 'torch_geometric'",
            "",
            "\u001b[0;31m---------------------------------------------------------------------------\u001b[0;32m\nNOTE: If your import is failing due to a missing package, you can\nmanually install dependencies using either !pip or !apt.\n\nTo view examples of installing some common dependencies, click the\n\"Open Examples\" button below.\n\u001b[0;31m---------------------------------------------------------------------------\u001b[0m\n"
          ],
          "errorDetails": {
            "actions": [
              {
                "action": "open_url",
                "actionText": "Open Examples",
                "url": "/notebooks/snippets/importing_libraries.ipynb"
              }
            ]
          }
        }
      ],
      "source": [
        "from torch_geometric.data import download_url, extract_zip\n",
        "import pandas as pd\n",
        "import numpy as np\n",
        "import torch\n",
        "from torch.nn import Linear\n",
        "from torch_geometric.data import HeteroData\n",
        "import torch_geometric.transforms as T\n",
        "from torch_geometric.loader import LinkNeighborLoader, NeighborLoader, DataLoader\n",
        "from torch_geometric.nn import  to_hetero, GATConv, GCNConv #, SAGEConv\n",
        "import torch.nn.functional as F\n",
        "from sklearn.preprocessing import MinMaxScaler, StandardScaler, OneHotEncoder, LabelEncoder\n",
        "from sklearn.metrics import roc_auc_score, accuracy_score, recall_score, precision_score, confusion_matrix\n",
        "import tqdm\n",
        "import torch.nn.functional as F\n",
        "import matplotlib.pyplot as plt"
      ]
    },
    {
      "cell_type": "code",
      "execution_count": null,
      "metadata": {
        "colab": {
          "base_uri": "https://localhost:8080/"
        },
        "id": "XRnYTKpEiAoP",
        "outputId": "7ab35d9e-de23-4e96-d83c-723e81c49257"
      },
      "outputs": [
        {
          "output_type": "stream",
          "name": "stdout",
          "text": [
            "2.1.0+cu121\n"
          ]
        }
      ],
      "source": [
        "import torch\n",
        "print(torch.__version__)"
      ]
    },
    {
      "cell_type": "code",
      "execution_count": null,
      "metadata": {
        "colab": {
          "base_uri": "https://localhost:8080/"
        },
        "id": "n2HV0NJAiCn2",
        "outputId": "c58a1cc2-5a89-40b3-e42d-1ca56bc2c207"
      },
      "outputs": [
        {
          "output_type": "execute_result",
          "data": {
            "text/plain": [
              "device(type='cuda')"
            ]
          },
          "metadata": {},
          "execution_count": 43
        }
      ],
      "source": [
        "torch.device('cuda' if torch.cuda.is_available() else 'cpu')"
      ]
    },
    {
      "cell_type": "code",
      "execution_count": null,
      "metadata": {
        "id": "ityp3QSCiLWH"
      },
      "outputs": [],
      "source": [
        "cs_path = './charging_points_data.csv'\n",
        "sessions_path = './sessions_data_21_23.csv'"
      ]
    },
    {
      "cell_type": "code",
      "source": [
        "cs_df_1 = pd.read_csv(cs_path)\n",
        "sessions_df_1 = pd.read_csv(sessions_path)\n",
        "cs_df = cs_df_1[cs_df_1['charging_point'].isin(sessions_df_1['charging_point'])]\n",
        "sessions_df = sessions_df_1[sessions_df_1['charging_point'].isin(cs_df_1['charging_point'])]"
      ],
      "metadata": {
        "id": "gGZqA_dORJQU"
      },
      "execution_count": null,
      "outputs": []
    },
    {
      "cell_type": "code",
      "source": [
        "cs_df['charging_point'].nunique()"
      ],
      "metadata": {
        "colab": {
          "base_uri": "https://localhost:8080/"
        },
        "id": "FLhfEcmpVUnH",
        "outputId": "cd13212e-ba76-44eb-82da-38b1bfe09d4f"
      },
      "execution_count": null,
      "outputs": [
        {
          "output_type": "execute_result",
          "data": {
            "text/plain": [
              "135"
            ]
          },
          "metadata": {},
          "execution_count": 51
        }
      ]
    },
    {
      "cell_type": "code",
      "execution_count": null,
      "metadata": {
        "id": "AmpCfmkciL7e",
        "colab": {
          "base_uri": "https://localhost:8080/"
        },
        "outputId": "0fb32b40-4bcd-42c6-f032-1f0744f4ef35"
      },
      "outputs": [
        {
          "output_type": "stream",
          "name": "stderr",
          "text": [
            "<ipython-input-52-25f5490fe550>:3: SettingWithCopyWarning: \n",
            "A value is trying to be set on a copy of a slice from a DataFrame.\n",
            "Try using .loc[row_indexer,col_indexer] = value instead\n",
            "\n",
            "See the caveats in the documentation: https://pandas.pydata.org/pandas-docs/stable/user_guide/indexing.html#returning-a-view-versus-a-copy\n",
            "  cs_df['charging_point'] = cs_df['charging_point'].map(cs_id_mapping)\n",
            "<ipython-input-52-25f5490fe550>:8: SettingWithCopyWarning: \n",
            "A value is trying to be set on a copy of a slice from a DataFrame.\n",
            "Try using .loc[row_indexer,col_indexer] = value instead\n",
            "\n",
            "See the caveats in the documentation: https://pandas.pydata.org/pandas-docs/stable/user_guide/indexing.html#returning-a-view-versus-a-copy\n",
            "  cs_df[num_d.columns] = sc.fit_transform(num_d)\n"
          ]
        }
      ],
      "source": [
        "cs_ids = cs_df['charging_point'].unique()\n",
        "cs_id_mapping = {id: idx for idx, id in enumerate(cs_ids)}\n",
        "cs_df['charging_point'] = cs_df['charging_point'].map(cs_id_mapping)\n",
        "cs_df.set_index('charging_point', inplace=True)\n",
        "#scale dataset\n",
        "sc = StandardScaler()\n",
        "num_d = cs_df.select_dtypes(exclude=['object'])\n",
        "cs_df[num_d.columns] = sc.fit_transform(num_d)\n",
        "# Use type as cs input features:\n",
        "cs_feat_1 = torch.from_numpy(cs_df['puissance_mean'].values).to(torch.float)\n",
        "cs_feat_2 = torch.from_numpy(cs_df['Total energy consumption'].values).to(torch.float)\n",
        "cs_feat_3 = torch.from_numpy(cs_df['Average charging duration'].values).to(torch.float)\n",
        "cs_feat_4 = torch.from_numpy(cs_df['Average number of charging hourly'].values).to(torch.float)\n",
        "cs_feat_5 = torch.from_numpy(cs_df['X'].values).to(torch.float)\n",
        "cs_feat_6 = torch.from_numpy(cs_df['Y'].values).to(torch.float)\n",
        "'''cs_feat_7 = torch.from_numpy(cs_df['convenience'].values).to(torch.float)\n",
        "cs_feat_8 = torch.from_numpy(cs_df['finance'].values).to(torch.float)\n",
        "cs_feat_9 = torch.from_numpy(cs_df['transportation'].values).to(torch.float)\n",
        "cs_feat_10 = torch.from_numpy(cs_df['healthcare'].values).to(torch.float)\n",
        "cs_feat_11 = torch.from_numpy(cs_df['education'].values).to(torch.float)\n",
        "cs_feat_12 = torch.from_numpy(cs_df['government'].values).to(torch.float)\n",
        "cs_feat_13 = torch.from_numpy(cs_df['recreation'].values).to(torch.float)\n",
        "cs_feat_14 = torch.from_numpy(cs_df['services'].values).to(torch.float)\n",
        "cs_feat_15 = torch.from_numpy(cs_df['religious'].values).to(torch.float)\n",
        "cs_feat_16 = torch.from_numpy(cs_df['way'].values).to(torch.float)\n",
        "cs_feat_17 = torch.from_numpy(cs_df['miscellaneous'].values).to(torch.float)'''\n",
        "cs_feat_7 = torch.from_numpy(cs_df['nbrcon'].values).to(torch.float)\n",
        "cs_feat_8 = torch.from_numpy(cs_df['overall_count'].values).to(torch.float)\n",
        "cs_feat_9 = torch.from_numpy(cs_df['nb_sessions'].values).to(torch.float)"
      ]
    },
    {
      "cell_type": "code",
      "execution_count": null,
      "metadata": {
        "id": "KJNMhXOl9Ha5",
        "colab": {
          "base_uri": "https://localhost:8080/"
        },
        "outputId": "b7002314-ecbc-498b-f634-9c4b83edd854"
      },
      "outputs": [
        {
          "output_type": "stream",
          "name": "stderr",
          "text": [
            "<ipython-input-53-f188115ff3db>:4: SettingWithCopyWarning: \n",
            "A value is trying to be set on a copy of a slice from a DataFrame.\n",
            "Try using .loc[row_indexer,col_indexer] = value instead\n",
            "\n",
            "See the caveats in the documentation: https://pandas.pydata.org/pandas-docs/stable/user_guide/indexing.html#returning-a-view-versus-a-copy\n",
            "  sessions_df[num_d.columns] = sc_user.fit_transform(num_d)\n"
          ]
        }
      ],
      "source": [
        "#scale dataset\n",
        "sc_user = StandardScaler()\n",
        "num_d = sessions_df.select_dtypes(exclude=['object'])\n",
        "sessions_df[num_d.columns] = sc_user.fit_transform(num_d)\n",
        "\n",
        "unique_user_id = sessions_df['Auth id'].unique()\n",
        "user_duration_y = sessions_df.groupby('Auth id')['duration_y'].apply(lambda x: list(set(x))).reset_index()\n",
        "user_feats_duration = user_duration_y['duration_y'].apply(lambda x: torch.tensor(x, dtype=torch.float))\n",
        "\n",
        "user_consumption = sessions_df.groupby('Auth id')['consumption_user'].apply(lambda x: list(set(x))).reset_index()\n",
        "user_feats_consumption = user_consumption['consumption_user'].apply(lambda x: torch.tensor(x, dtype=torch.float))\n",
        "\n",
        "#user_price = sessions_df.groupby('Auth id')['Price_y'].apply(lambda x: list(set(x))).reset_index()\n",
        "#user_feats_price = user_price['Price_y'].apply(lambda x: torch.tensor(x, dtype=torch.float))\n",
        "\n",
        "user_reference = sessions_df.groupby('Auth id')['Reference_y'].apply(lambda x: list(set(x))).reset_index()\n",
        "user_feats_reference = user_reference['Reference_y'].apply(lambda x: torch.tensor(x, dtype=torch.float))\n",
        "\n",
        "user_start_hour = sessions_df.groupby('Auth id')['start_hour'].apply(lambda x: list(set(x))).reset_index()\n",
        "user_feats_start_hour = user_start_hour['start_hour'].apply(lambda x: torch.tensor(x, dtype=torch.float))\n",
        "\n",
        "user_feat_1 = torch.cat(tuple(user_feats_duration))\n",
        "user_feat_2 = torch.cat(tuple(user_feats_consumption))\n",
        "user_feat_3 = torch.cat(tuple(user_feats_start_hour))\n",
        "user_feat_4 = torch.cat(tuple(user_feats_reference))\n",
        "#user_feat_5 = torch.cat(tuple(user_feats_price))"
      ]
    },
    {
      "cell_type": "code",
      "execution_count": null,
      "metadata": {
        "colab": {
          "base_uri": "https://localhost:8080/"
        },
        "id": "aY-R3u5O-mG1",
        "outputId": "65a79f56-ac4d-42fe-a779-a7d27b8917c6"
      },
      "outputs": [
        {
          "output_type": "execute_result",
          "data": {
            "text/plain": [
              "tensor([[-0.4098, -0.3480, -0.9171, -0.9571],\n",
              "        [-0.6873, -0.3854, -0.4372, -0.9484],\n",
              "        [-0.7208,  1.3300,  0.4285, -0.9571],\n",
              "        ...,\n",
              "        [-0.4905,  1.3931, -0.5740, -0.8787],\n",
              "        [-0.2751, -0.9369, -0.5072, -0.9746],\n",
              "        [-0.7944, -0.9337,  0.3519, -0.9659]])"
            ]
          },
          "metadata": {},
          "execution_count": 54
        }
      ],
      "source": [
        "torch.stack([user_feat_1,user_feat_2,user_feat_3,user_feat_4], dim=1)"
      ]
    },
    {
      "cell_type": "code",
      "execution_count": null,
      "metadata": {
        "colab": {
          "base_uri": "https://localhost:8080/"
        },
        "id": "Ju962vxWQFBY",
        "outputId": "669e50dd-d6eb-4efb-b205-d2600aee23ea"
      },
      "outputs": [
        {
          "output_type": "execute_result",
          "data": {
            "text/plain": [
              "torch.Size([11812])"
            ]
          },
          "metadata": {},
          "execution_count": 55
        }
      ],
      "source": [
        "user_feat_3.shape"
      ]
    },
    {
      "cell_type": "code",
      "execution_count": null,
      "metadata": {
        "colab": {
          "base_uri": "https://localhost:8080/"
        },
        "id": "LB9OpHE3TQmr",
        "outputId": "935f2417-8c4a-4fc9-cde3-60658d78f7bc"
      },
      "outputs": [
        {
          "output_type": "stream",
          "name": "stdout",
          "text": [
            "Mapping of user IDs to consecutive values:\n",
            "==========================================\n",
            "    Auth id  mappedID\n",
            "0  9E7AE25B         0\n",
            "1  8A410DDF         1\n",
            "2  09D3BF01         2\n",
            "3  E1A5C56E         3\n",
            "4  8134F26E         4\n",
            "\n"
          ]
        }
      ],
      "source": [
        "# Create a mapping from unique user indices to range [0, num_user_nodes):\n",
        "unique_user_id = pd.DataFrame(data={\n",
        "    'Auth id': unique_user_id,\n",
        "    'mappedID': pd.RangeIndex(len(unique_user_id)),\n",
        "})\n",
        "print(\"Mapping of user IDs to consecutive values:\")\n",
        "print(\"==========================================\")\n",
        "print(unique_user_id.head())\n",
        "print()"
      ]
    },
    {
      "cell_type": "code",
      "execution_count": null,
      "metadata": {
        "colab": {
          "base_uri": "https://localhost:8080/"
        },
        "id": "gQZD-oSI-M3E",
        "outputId": "5587383c-9f9a-48ad-e603-de994c676b7e"
      },
      "outputs": [
        {
          "output_type": "execute_result",
          "data": {
            "text/plain": [
              "(11812, 2)"
            ]
          },
          "metadata": {},
          "execution_count": 26
        }
      ],
      "source": [
        "unique_user_id.shape"
      ]
    },
    {
      "cell_type": "code",
      "execution_count": null,
      "metadata": {
        "colab": {
          "base_uri": "https://localhost:8080/"
        },
        "id": "X906D2Aya8yx",
        "outputId": "afb7d0ee-f51c-450e-d385-8b5f814b61d5"
      },
      "outputs": [
        {
          "output_type": "stream",
          "name": "stdout",
          "text": [
            "Mapping of cs IDs to consecutive values:\n",
            "===========================================\n",
            "  charging_point  mappedID\n",
            "0           USZM         0\n",
            "1           PKUU         1\n",
            "2           MXEQ         2\n",
            "3           WPGG         3\n",
            "4           ACUK         4\n"
          ]
        }
      ],
      "source": [
        "# Create a mapping from unique movie indices to range [0, num_movie_nodes):\n",
        "unique_cs_id = sessions_df['charging_point'].unique()\n",
        "unique_cs_id = pd.DataFrame(data={\n",
        "    'charging_point': unique_cs_id,\n",
        "    'mappedID': pd.RangeIndex(len(unique_cs_id)),\n",
        "})\n",
        "print(\"Mapping of cs IDs to consecutive values:\")\n",
        "print(\"===========================================\")\n",
        "print(unique_cs_id.head())"
      ]
    },
    {
      "cell_type": "code",
      "execution_count": null,
      "metadata": {
        "colab": {
          "base_uri": "https://localhost:8080/"
        },
        "id": "pN1mTPBSdH4_",
        "outputId": "5af20b63-d090-4eb7-b003-c212d82fc135"
      },
      "outputs": [
        {
          "output_type": "execute_result",
          "data": {
            "text/plain": [
              "(135, 2)"
            ]
          },
          "metadata": {},
          "execution_count": 28
        }
      ],
      "source": [
        "unique_cs_id.shape"
      ]
    },
    {
      "cell_type": "code",
      "execution_count": null,
      "metadata": {
        "colab": {
          "base_uri": "https://localhost:8080/"
        },
        "id": "0X-1gDLnbBT4",
        "outputId": "8b980e70-823a-4f66-bb3d-de93873cb923"
      },
      "outputs": [
        {
          "output_type": "stream",
          "name": "stdout",
          "text": [
            "\n",
            "Final edge indices pointing from users to cs:\n",
            "========================\n"
          ]
        }
      ],
      "source": [
        "# Perform merge to obtain the edges from users and movies:\n",
        "sessions_user_id = pd.merge(sessions_df['Auth id'], unique_user_id,left_on='Auth id', right_on='Auth id', how='left')\n",
        "sessions_user_id = torch.from_numpy(sessions_user_id['mappedID'].values)\n",
        "sessions_cs_id = pd.merge(sessions_df['charging_point'], unique_cs_id, left_on='charging_point', right_on='charging_point', how='left')\n",
        "sessions_cs_id = torch.from_numpy(sessions_cs_id['mappedID'].values)\n",
        "# With this, we are ready to construct our `edge_index` in COO format\n",
        "# following PyG semantics:\n",
        "edge_index_user_to_cs = torch.stack([sessions_user_id, sessions_cs_id], dim=0)\n",
        "print()\n",
        "print(\"Final edge indices pointing from users to cs:\")\n",
        "print(\"========================\")"
      ]
    },
    {
      "cell_type": "code",
      "execution_count": null,
      "metadata": {
        "colab": {
          "base_uri": "https://localhost:8080/"
        },
        "id": "vXFDLS6O7PC1",
        "outputId": "7c74ce5c-aed5-4609-fbe5-2dfc1377a61d"
      },
      "outputs": [
        {
          "output_type": "execute_result",
          "data": {
            "text/plain": [
              "torch.Size([454078])"
            ]
          },
          "metadata": {},
          "execution_count": 59
        }
      ],
      "source": [
        "#features for edges\n",
        "edge_feat_1 = torch.from_numpy(sessions_df['Consumption_session'].values).to(torch.float)\n",
        "edge_feat_2 = torch.from_numpy(sessions_df['duration_x'].values).to(torch.float)\n",
        "#edge_feat_3 = torch.from_numpy(sessions_df['Price_x'].values).to(torch.float)\n",
        "\n",
        "edge_feat_1.shape"
      ]
    },
    {
      "cell_type": "code",
      "execution_count": null,
      "metadata": {
        "id": "0kfz0ZPciRw3"
      },
      "outputs": [],
      "source": [
        "data = HeteroData()\n",
        "# Save node indices:\n",
        "data[\"user\"].node_id = torch.arange(len(unique_user_id))\n",
        "data[\"cs\"].node_id = torch.arange(len(cs_df))\n",
        "#add node features for cs nodes\n",
        "data['user'].x = torch.stack([user_feat_1,user_feat_2,user_feat_3,user_feat_4], dim=1)\n",
        "#add node features for cs nodes\n",
        "cs_feats_list = []\n",
        "for i in range(1, 9 + 1):\n",
        "    cs_feat_var_name = f\"cs_feat_{i}\"\n",
        "    cs_feat_tensor = locals()[cs_feat_var_name]  # Access the variable dynamically\n",
        "    cs_feats_list.append(cs_feat_tensor)\n",
        "\n",
        "data[\"cs\"].x = torch.stack(cs_feats_list, dim=1)\n",
        "# Add node features and edge indices:\n",
        "data[\"user\", \"consumption\", \"cs\"].edge_index = edge_index_user_to_cs\n",
        "data[\"user\", \"consumption\", \"cs\"].edge_attr  = torch.stack([edge_feat_1,edge_feat_2],dim=1)\n",
        "# We also need to make sure to add the reverse edges from cs to users\n",
        "# in order to let a GNN be able to pass messages in both directions.\n",
        "# We can leverage the `T.ToUndirected()` transform for this from PyG:\n",
        "data = T.ToUndirected()(data)\n",
        "del data[\"cs\", \"rev_consumption\", \"user\"].edge_label  # Remove \"reverse\" label\n",
        "del data[\"cs\", \"rev_consumption\", \"user\"].edge_attr  # Remove \"reverse\" attr"
      ]
    },
    {
      "cell_type": "code",
      "execution_count": null,
      "metadata": {
        "colab": {
          "base_uri": "https://localhost:8080/"
        },
        "id": "uCslDmS3Accp",
        "outputId": "1d1b5d75-981d-433e-e727-49c5cfc85e3a"
      },
      "outputs": [
        {
          "output_type": "execute_result",
          "data": {
            "text/plain": [
              "torch.Size([135, 9])"
            ]
          },
          "metadata": {},
          "execution_count": 61
        }
      ],
      "source": [
        "data['cs'].x.shape"
      ]
    },
    {
      "cell_type": "code",
      "execution_count": null,
      "metadata": {
        "id": "ovvg0DK9iT1H"
      },
      "outputs": [],
      "source": [
        "#If data[key] in RandomLinkSplit does not exist, it will be automatically created\n",
        "#and represents a binary classification task (1 = edge, 0 = no edge)\n",
        "#Si add_negative_train_samples est défini sur False, le modèle suppose que l'échantillonnage négatif est déjà géré ailleurs dans le processus d'entraînemen\n",
        "#neg_sampling_ratio=1.0, # 1.0 means number of negative edges in the training is equal to nbr of positive edges #in our case there is a lot of neg edges so we reduce neg_sampl_ratio == 0.0\n",
        "transform = T.RandomLinkSplit(\n",
        "    num_val=0.2,\n",
        "    num_test=0.2,\n",
        "    disjoint_train_ratio=0.3, #30% of the training edges are not shared for message passing and supervision\n",
        "    neg_sampling_ratio= 0.7, # sampling negative edges at a ratio of 0.5 compared to positive edges during training.\n",
        "    add_negative_train_samples=True,\n",
        "    edge_types=(\"user\", \"consumption\", \"cs\"),\n",
        "    rev_edge_types=None,\n",
        ")\n",
        "train_data, val_data, test_data = transform(data)"
      ]
    },
    {
      "cell_type": "code",
      "execution_count": null,
      "metadata": {
        "colab": {
          "base_uri": "https://localhost:8080/"
        },
        "id": "z783weu4mevL",
        "outputId": "3599c9e8-40da-4cee-e0ba-7f3ab8d09ccb"
      },
      "outputs": [
        {
          "output_type": "execute_result",
          "data": {
            "text/plain": [
              "tensor([0., 1.])"
            ]
          },
          "metadata": {},
          "execution_count": 63
        }
      ],
      "source": [
        "test_data[\"user\", \"consumption\", \"cs\"].edge_label.unique()"
      ]
    },
    {
      "cell_type": "code",
      "execution_count": null,
      "metadata": {
        "id": "fvCYB6-Fa_1I"
      },
      "outputs": [],
      "source": [
        "for ii in train_loader:\n",
        "  print(ii[\"user\", \"consumption\", \"cs\"].edge_label.unique())"
      ]
    },
    {
      "cell_type": "code",
      "execution_count": null,
      "metadata": {
        "colab": {
          "base_uri": "https://localhost:8080/"
        },
        "id": "YbufsXJ0baHc",
        "outputId": "4f9489d6-8bff-41c7-c73f-597bbcde74cf"
      },
      "outputs": [
        {
          "output_type": "execute_result",
          "data": {
            "text/plain": [
              "torch.Size([190714, 2])"
            ]
          },
          "metadata": {},
          "execution_count": 66
        }
      ],
      "source": [
        "edge_label = train_data[\"user\", \"consumption\", \"cs\"].edge_attr\n",
        "edge_label.shape"
      ]
    },
    {
      "cell_type": "code",
      "execution_count": null,
      "metadata": {
        "id": "Eyx_miV1iV0X"
      },
      "outputs": [],
      "source": [
        "# Define seed edges Train data:\n",
        "edge_label_index = train_data[\"user\", \"consumption\", \"cs\"].edge_label_index\n",
        "edge_label = train_data[\"user\", \"consumption\", \"cs\"].edge_label\n",
        "train_loader =  LinkNeighborLoader(\n",
        "    data=train_data,\n",
        "    num_neighbors=[25, 10],\n",
        "    #neg_sampling_ratio=2.0,\n",
        "    edge_label_index=((\"user\", \"consumption\", \"cs\"), edge_label_index),\n",
        "    edge_label=edge_label,\n",
        "    batch_size=128,\n",
        "    shuffle=True,)\n",
        "# Define the validation seed edges:\n",
        "edge_label_index = val_data[\"user\", \"consumption\", \"cs\"].edge_label_index\n",
        "edge_label = val_data[\"user\", \"consumption\", \"cs\"].edge_label\n",
        "\n",
        "val_loader =  LinkNeighborLoader(\n",
        "    data=val_data,\n",
        "    num_neighbors=[25, 10],\n",
        "    edge_label_index=((\"user\", \"consumption\", \"cs\"), edge_label_index),\n",
        "    edge_label=edge_label,\n",
        "    batch_size= 128,\n",
        "    shuffle=False,)"
      ]
    },
    {
      "cell_type": "code",
      "execution_count": null,
      "metadata": {
        "id": "femfH0m1mYLM"
      },
      "outputs": [],
      "source": [
        "from typing import List, Optional, Tuple, Union\n",
        "import torch.nn.functional as F\n",
        "from torch import Tensor\n",
        "\n",
        "from torch_geometric.nn.aggr import Aggregation, MultiAggregation\n",
        "from torch_geometric.nn.conv import MessagePassing\n",
        "from torch_geometric.nn.dense.linear import Linear\n",
        "from torch_geometric.typing import Adj, OptPairTensor, Size, SparseTensor\n",
        "from torch_geometric.utils import spmm\n",
        "\n",
        "class SAGEConv(MessagePassing):\n",
        "    def __init__(\n",
        "        self,\n",
        "        in_channels: Union[int, Tuple[int, int]],\n",
        "        out_channels: int,\n",
        "        aggr: Optional[Union[str, List[str], Aggregation]] = \"mean\",\n",
        "        normalize: bool = False,\n",
        "        root_weight: bool = True,\n",
        "        project: bool = False,\n",
        "        bias: bool = True,\n",
        "        **kwargs,\n",
        "    ):\n",
        "        self.in_channels = in_channels\n",
        "        self.out_channels = out_channels\n",
        "        self.normalize = normalize\n",
        "        self.root_weight = root_weight\n",
        "        self.project = project\n",
        "\n",
        "        if isinstance(in_channels, int):\n",
        "            in_channels = (in_channels, in_channels)\n",
        "\n",
        "        if aggr == 'lstm':\n",
        "            kwargs.setdefault('aggr_kwargs', {})\n",
        "            kwargs['aggr_kwargs'].setdefault('in_channels', in_channels[0])\n",
        "            kwargs['aggr_kwargs'].setdefault('out_channels', in_channels[0])\n",
        "\n",
        "        super().__init__(aggr, **kwargs)\n",
        "\n",
        "        if self.project:\n",
        "            if in_channels[0] <= 0:\n",
        "                raise ValueError(f\"'{self.__class__.__name__}' does not \"\n",
        "                                 f\"support lazy initialization with \"\n",
        "                                 f\"`project=True`\")\n",
        "            self.lin = Linear(in_channels[0], in_channels[0], bias=True)\n",
        "\n",
        "        if isinstance(self.aggr_module, MultiAggregation):\n",
        "            aggr_out_channels = self.aggr_module.get_out_channels(\n",
        "                in_channels[0])\n",
        "        else:\n",
        "            aggr_out_channels = in_channels[0]\n",
        "\n",
        "        self.lin_l = Linear(aggr_out_channels + 2, out_channels, bias=bias) #2: nbr features of edges\n",
        "        self.lin_l_node_only = Linear(aggr_out_channels , out_channels, bias=bias) # For cases without edge_attr\n",
        "        if self.root_weight:\n",
        "            self.lin_r = Linear(in_channels[1], out_channels, bias=False)\n",
        "\n",
        "        self.reset_parameters()\n",
        "\n",
        "    def reset_parameters(self):\n",
        "        super().reset_parameters()\n",
        "        if self.project:\n",
        "            self.lin.reset_parameters()\n",
        "        self.lin_l.reset_parameters()\n",
        "        if self.root_weight:\n",
        "            self.lin_r.reset_parameters()\n",
        "\n",
        "    def forward(\n",
        "        self,\n",
        "        x: Union[Tensor, OptPairTensor],\n",
        "        edge_index: Adj,\n",
        "        edge_attr,\n",
        "        size: Size = None,\n",
        "    ) -> Tensor:\n",
        "        # Ensure x is a pair tensor\n",
        "        x: OptPairTensor = (x, x) if isinstance(x, Tensor) else x\n",
        "\n",
        "        if self.project and hasattr(self, 'lin'):\n",
        "            x = (self.lin(x[0]).relu(), x[1])\n",
        "\n",
        "        # propagate_type: (x: OptPairTensor)\n",
        "        out = self.propagate(edge_index, x=x, edge_attr=edge_attr)\n",
        "        x_r = x[1]\n",
        "        if self.root_weight and x_r is not None:\n",
        "            out = out + self.lin_r(x_r)\n",
        "\n",
        "        if self.normalize:\n",
        "            out = F.normalize(out, p=2., dim=-1)\n",
        "\n",
        "        return  out\n",
        "\n",
        "    def message(self, x_j, edge_attr):\n",
        "      #if edge_attr is None (for edges with 0 l label we dont cosnider this info)\n",
        "      if edge_attr is not None:\n",
        "        return self.lin_l(torch.cat([x_j, edge_attr], dim=-1))\n",
        "      else:\n",
        "        return self.lin_l_node_only(x_j)\n",
        "\n",
        "    def message_and_aggregate(self, adj_t: Adj, x: OptPairTensor) -> Tensor:\n",
        "        if isinstance(adj_t, SparseTensor):\n",
        "            adj_t = adj_t.set_value(None, layout=None)\n",
        "        return spmm(adj_t, x[0], reduce=self.aggr)\n",
        "\n",
        "    def __repr__(self) -> str:\n",
        "        return (f'{self.__class__.__name__}({self.in_channels}, '\n",
        "                f'{self.out_channels}, aggr={self.aggr})')"
      ]
    },
    {
      "cell_type": "code",
      "execution_count": null,
      "metadata": {
        "id": "x6AdYogunyUl"
      },
      "outputs": [],
      "source": [
        "class GNN(torch.nn.Module):\n",
        "    def __init__(self, hidden_channels, num_layers):\n",
        "        super().__init__()\n",
        "        self.convs = torch.nn.ModuleList()\n",
        "        for i in range(num_layers):\n",
        "            self.convs.append(SAGEConv(hidden_channels, hidden_channels))\n",
        "            self.convs.append(torch.nn.BatchNorm1d(hidden_channels))\n",
        "            self.convs.append(torch.nn.Dropout(p=0.5))  # Added dropout after batchnorm\n",
        "\n",
        "    def forward(self, x, edge_index, edge_attr):\n",
        "        for i in range(0, len(self.convs), 3):\n",
        "            x = F.relu(self.convs[i+1](self.convs[i](x, edge_index, edge_attr)))\n",
        "            x = self.convs[i+2](x)  # Apply dropout\n",
        "        return x\n",
        "\n",
        "class Classifier(torch.nn.Module):\n",
        "    def __init__(self, hidden_channels):\n",
        "        super().__init__()\n",
        "        self.lin1 = Linear(hidden_channels, hidden_channels)\n",
        "        self.lin2 = Linear(hidden_channels, 1)\n",
        "        self.dropout = torch.nn.Dropout(p=0.5)  # Added dropout\n",
        "\n",
        "    def forward(self, x_user, x_cs, edge_label_index):\n",
        "        edge_feat_user = x_user[edge_label_index[0]]\n",
        "        edge_feat_cs = x_cs[edge_label_index[1]]\n",
        "        z = edge_feat_user * edge_feat_cs\n",
        "        z = F.relu(self.lin1(z))  # Added non-linearity\n",
        "        z = self.dropout(z)  # Apply dropout\n",
        "        z = self.lin2(z).sum(dim=-1)\n",
        "        z = torch.sigmoid(z).squeeze(-1) #remove last dimension\n",
        "        return z\n",
        "\n",
        "class Model(torch.nn.Module):\n",
        "    def __init__(self, hidden_channels,num_layers):\n",
        "        super().__init__()\n",
        "        self.cs_lin = torch.nn.Linear(9, hidden_channels)\n",
        "        self.user_lin = torch.nn.Linear(4,hidden_channels)\n",
        "        self.user_emb = torch.nn.Embedding(data[\"user\"].num_nodes, hidden_channels)\n",
        "        self.cs_emb = torch.nn.Embedding(data[\"cs\"].num_nodes, hidden_channels)\n",
        "        self.gnn = GNN(hidden_channels,num_layers)\n",
        "        # Convert GNN model into a heterogeneous variant:\n",
        "        self.gnn = to_hetero(self.gnn, metadata=data.metadata())\n",
        "        self.classifier = Classifier(hidden_channels)\n",
        "    def forward(self, data: HeteroData) -> torch.Tensor:\n",
        "        x_dict = {\n",
        "          \"user\": self.user_lin(data['user'].x) + self.user_emb(data[\"user\"].node_id),\n",
        "          \"cs\": self.cs_lin(data[\"cs\"].x) + self.cs_emb(data[\"cs\"].node_id),\n",
        "        }\n",
        "        # `x_dict` holds feature matrices of all node types\n",
        "        # `edge_index_dict` holds all edge indices of all edge types\n",
        "        x_dict = self.gnn(x_dict, data.edge_index_dict, data.edge_attr_dict)\n",
        "        pred = self.classifier(\n",
        "            x_dict[\"user\"],\n",
        "            x_dict[\"cs\"],\n",
        "            data[\"user\", \"consumption\", \"cs\"].edge_label_index,\n",
        "        )\n",
        "        return pred"
      ]
    },
    {
      "cell_type": "code",
      "execution_count": null,
      "metadata": {
        "colab": {
          "base_uri": "https://localhost:8080/",
          "height": 804
        },
        "id": "BQ6joXz-icCO",
        "outputId": "8b4d938c-a2cd-4e82-f200-1833dc708e17"
      },
      "outputs": [
        {
          "output_type": "stream",
          "name": "stdout",
          "text": [
            "Device: 'cuda'\n"
          ]
        },
        {
          "output_type": "stream",
          "name": "stderr",
          "text": [
            "/usr/local/lib/python3.10/dist-packages/torch/overrides.py:110: UserWarning: 'has_cuda' is deprecated, please use 'torch.backends.cuda.is_built()'\n",
            "  torch.has_cuda,\n",
            "/usr/local/lib/python3.10/dist-packages/torch/overrides.py:111: UserWarning: 'has_cudnn' is deprecated, please use 'torch.backends.cudnn.is_available()'\n",
            "  torch.has_cudnn,\n",
            "/usr/local/lib/python3.10/dist-packages/torch/overrides.py:117: UserWarning: 'has_mps' is deprecated, please use 'torch.backends.mps.is_built()'\n",
            "  torch.has_mps,\n",
            "/usr/local/lib/python3.10/dist-packages/torch/overrides.py:118: UserWarning: 'has_mkldnn' is deprecated, please use 'torch.backends.mkldnn.is_available()'\n",
            "  torch.has_mkldnn,\n"
          ]
        },
        {
          "output_type": "stream",
          "name": "stdout",
          "text": [
            "Epoch: 001, Loss: 0.3903, Val Loss: 0.2032\n",
            "Epoch: 002, Loss: 0.2335, Val Loss: 0.1546\n",
            "Epoch: 003, Loss: 0.1991, Val Loss: 0.1382\n",
            "Epoch: 004, Loss: 0.1805, Val Loss: 0.1260\n",
            "Epoch: 005, Loss: 0.1646, Val Loss: 0.1161\n",
            "Epoch: 006, Loss: 0.1555, Val Loss: 0.1096\n",
            "Epoch: 007, Loss: 0.1473, Val Loss: 0.1071\n",
            "Epoch: 008, Loss: 0.1391, Val Loss: 0.1069\n",
            "Epoch: 009, Loss: 0.1348, Val Loss: 0.1061\n"
          ]
        },
        {
          "output_type": "display_data",
          "data": {
            "text/plain": [
              "<Figure size 640x480 with 1 Axes>"
            ],
            "image/png": "[encoded data removed]"
          },
          "metadata": {}
        }
      ],
      "source": [
        "train_losses = []\n",
        "val_losses=[]\n",
        "best_val_loss = float('inf')\n",
        "patience = 10\n",
        "epochs_no_improve = 0\n",
        "device = torch.device('cuda' if torch.cuda.is_available() else 'cpu')\n",
        "print(f\"Device: '{device}'\")\n",
        "model = Model(hidden_channels=128,num_layers=4).to(device)\n",
        "optimizer = torch.optim.Adam(model.parameters(), lr=0.001)\n",
        "for epoch in range(1, 10):\n",
        "    model.train()\n",
        "    total_loss = total_examples = 0\n",
        "    for sampled_data in train_loader:\n",
        "        optimizer.zero_grad()\n",
        "        sampled_data.to(device)\n",
        "        pred = model(sampled_data)\n",
        "        ground_truth = sampled_data[\"user\", \"consumption\", \"cs\"].edge_label\n",
        "        loss = F.binary_cross_entropy(pred, ground_truth)\n",
        "        loss.backward()\n",
        "        optimizer.step()\n",
        "        total_loss += float(loss) * pred.numel()\n",
        "        total_examples += pred.numel()\n",
        "    #avg loss for epoch\n",
        "    avg_loss =  total_loss / total_examples\n",
        "    train_losses.append(avg_loss)\n",
        "\n",
        "    #validation\n",
        "    model.eval()\n",
        "    total_val_loss = total_val_examples = 0\n",
        "    with torch.no_grad():\n",
        "      for val_data in val_loader:\n",
        "        val_data.to(device)\n",
        "        val_pred = model(val_data)\n",
        "        val_ground_truth = val_data[\"user\", \"consumption\", \"cs\"].edge_label\n",
        "        val_loss = F.binary_cross_entropy(val_pred, val_ground_truth)\n",
        "        total_val_loss += float(val_loss) * val_pred.numel()\n",
        "        total_val_examples +=val_pred.numel()\n",
        "    avg_val_loss = total_val_loss / total_val_examples\n",
        "    val_losses.append(avg_val_loss)\n",
        "    # Early Stopping Check\n",
        "    if avg_val_loss < best_val_loss:\n",
        "        best_val_loss = avg_val_loss\n",
        "        epochs_no_improve = 0  # reset counter if there is an improvement\n",
        "        torch.save(model.state_dict(), './model_link_pred_SageConv.pth')  # save the best model\n",
        "    else:\n",
        "        epochs_no_improve += 1\n",
        "    if epochs_no_improve == patience:\n",
        "        print(\"Early stopping triggered\")\n",
        "        break  # Break the loop if the patience has been reached\n",
        "\n",
        "    print(f\"Epoch: {epoch:03d}, Loss: {avg_loss:.4f}, Val Loss: {avg_val_loss:.4f}\")\n",
        "\n",
        "\n",
        "model.load_state_dict(torch.load('./model_link_pred_SageConv.pth'))\n",
        "plt.plot(train_losses, label='Training Loss')\n",
        "plt.plot(val_losses, label='Validation Loss')\n",
        "plt.xlabel('Epoch')\n",
        "plt.ylabel('Loss')\n",
        "plt.title('Training Loss Curve')\n",
        "plt.legend()\n",
        "plt.show()"
      ]
    },
    {
      "cell_type": "code",
      "execution_count": null,
      "metadata": {
        "colab": {
          "base_uri": "https://localhost:8080/"
        },
        "id": "1dy6aJKw7lIW",
        "outputId": "148e9efb-17e2-4a7d-d90e-e6e36e99b001"
      },
      "outputs": [
        {
          "output_type": "execute_result",
          "data": {
            "text/plain": [
              "Embedding(977, 32)"
            ]
          },
          "metadata": {},
          "execution_count": 69
        }
      ],
      "source": [
        "torch.nn.Embedding(sampled_data[\"user\"].num_nodes, 32)"
      ]
    },
    {
      "cell_type": "code",
      "execution_count": null,
      "metadata": {
        "id": "SUVR1yvEwFQh"
      },
      "outputs": [],
      "source": [
        "# Define the test seed edges:\n",
        "edge_label_index = test_data[\"user\", \"consumption\", \"cs\"].edge_label_index\n",
        "edge_label = test_data[\"user\", \"consumption\", \"cs\"].edge_label\n",
        "test_loader = LinkNeighborLoader(\n",
        "    data=test_data,\n",
        "    num_neighbors=[25, 10],\n",
        "    edge_label_index=((\"user\", \"consumption\", \"cs\"), edge_label_index),\n",
        "    edge_label=edge_label,\n",
        "    batch_size=128,\n",
        "    shuffle=False,\n",
        ")\n",
        "sampled_data = next(iter(test_loader))"
      ]
    },
    {
      "cell_type": "code",
      "execution_count": null,
      "metadata": {
        "colab": {
          "base_uri": "https://localhost:8080/"
        },
        "id": "QqAJs620wI0n",
        "outputId": "a7f90240-3d3c-4289-905b-03d54fb5a26e"
      },
      "outputs": [
        {
          "output_type": "stream",
          "name": "stderr",
          "text": [
            "100%|██████████| 1207/1207 [00:19<00:00, 63.36it/s] \n"
          ]
        },
        {
          "output_type": "stream",
          "name": "stdout",
          "text": [
            "\n",
            "Test AUC: 0.9933\n",
            "Accuracy: 0.9619\n",
            "Recall: 0.9773\n",
            "Precision: 0.9587\n"
          ]
        }
      ],
      "source": [
        "preds = []\n",
        "ground_truths = []\n",
        "for sampled_data in tqdm.tqdm(test_loader):\n",
        "    with torch.no_grad():\n",
        "        sampled_data.to(device)\n",
        "\n",
        "        preds.append(model(sampled_data))\n",
        "        ground_truths.append(sampled_data[\"user\", \"consumption\", \"cs\"].edge_label)\n",
        "\n",
        "pred = torch.cat(preds, dim=0).cpu().numpy()\n",
        "ground_truth = torch.cat(ground_truths, dim=0).cpu().numpy()\n",
        "\n",
        "binary_predictions = (pred > 0.5).astype(int)\n",
        "auc = roc_auc_score(ground_truth, pred)\n",
        "accuracy = accuracy_score(ground_truth, binary_predictions)\n",
        "recall = recall_score(ground_truth, binary_predictions)\n",
        "precision = precision_score(ground_truth, binary_predictions)\n",
        "\n",
        "print(f\"\\nTest AUC: {auc:.4f}\")\n",
        "print(f\"Accuracy: {accuracy:.4f}\")\n",
        "print(f\"Recall: {recall:.4f}\")\n",
        "print(f\"Precision: {precision:.4f}\")"
      ]
    },
    {
      "cell_type": "code",
      "execution_count": null,
      "metadata": {
        "colab": {
          "base_uri": "https://localhost:8080/",
          "height": 472
        },
        "id": "d_Qxvg5c3g_h",
        "outputId": "2bcb0413-88fa-4476-d3cc-cad902134d4b"
      },
      "outputs": [
        {
          "output_type": "display_data",
          "data": {
            "text/plain": [
              "<Figure size 640x480 with 2 Axes>"
            ],
            "image/png": "[encoded data removed]"
          },
          "metadata": {}
        }
      ],
      "source": [
        "import seaborn as sns\n",
        "conf_matrix = confusion_matrix(ground_truth, binary_predictions)\n",
        "\n",
        "# Plotting the confusion matrix\n",
        "sns.heatmap(conf_matrix, annot=True, cmap='Blues', fmt='g')\n",
        "plt.xlabel('Predicted labels')\n",
        "plt.ylabel('True labels')\n",
        "plt.title('Confusion Matrix')\n",
        "plt.show()"
      ]
    },
    {
      "cell_type": "code",
      "execution_count": null,
      "metadata": {
        "colab": {
          "base_uri": "https://localhost:8080/"
        },
        "id": "1hMrsx5DDoVj",
        "outputId": "57801b62-be93-4d14-cbf4-9b7e73bad6d7"
      },
      "outputs": [
        {
          "output_type": "stream",
          "name": "stdout",
          "text": [
            "False Positive Rate: 0.06013843007708038\n"
          ]
        }
      ],
      "source": [
        "tn, fp, fn, tp = confusion_matrix(ground_truth, binary_predictions).ravel()\n",
        "fpr = fp / (fp + tn)\n",
        "print(\"False Positive Rate:\", fpr)"
      ]
    },
    {
      "cell_type": "code",
      "execution_count": null,
      "metadata": {
        "colab": {
          "base_uri": "https://localhost:8080/"
        },
        "id": "ZFx8Q_djeRB6",
        "outputId": "d63bd592-b2be-4024-f788-0a762b0d99c6"
      },
      "outputs": [
        {
          "output_type": "execute_result",
          "data": {
            "text/plain": [
              "11812"
            ]
          },
          "metadata": {},
          "execution_count": 74
        }
      ],
      "source": [
        "sessions_df['Auth id'].nunique()"
      ]
    },
    {
      "cell_type": "code",
      "execution_count": null,
      "metadata": {
        "colab": {
          "base_uri": "https://localhost:8080/"
        },
        "id": "9AaYOjv92OHk",
        "outputId": "16b17973-35a6-4643-e994-7006ef5d1009"
      },
      "outputs": [
        {
          "output_type": "execute_result",
          "data": {
            "text/plain": [
              "tensor([[3450, 7525, 2158,  ..., 6754, 3274, 2129],\n",
              "        [  39,  122,  116,  ...,  109,   64,   72]])"
            ]
          },
          "metadata": {},
          "execution_count": 75
        }
      ],
      "source": [
        "test_data[\"user\", \"consumption\", \"cs\"].edge_label_index"
      ]
    },
    {
      "cell_type": "code",
      "execution_count": null,
      "metadata": {
        "colab": {
          "base_uri": "https://localhost:8080/"
        },
        "id": "afyx-djUSIBe",
        "outputId": "d2c765c2-da84-4980-9c41-5b3baa46468e"
      },
      "outputs": [
        {
          "output_type": "execute_result",
          "data": {
            "text/plain": [
              "array([ 42723,  98455, 108292, 127549, 130957, 132214, 139223, 143546,\n",
              "       146657])"
            ]
          },
          "metadata": {},
          "execution_count": 76
        }
      ],
      "source": [
        "edge_label_index = test_data[\"user\", \"consumption\", \"cs\"].edge_label_index.numpy()\n",
        "filtered_array = edge_label_index[:, edge_label_index[0] == 1309]\n",
        "indices = np.where(edge_label_index[0] == 1309)[0]\n",
        "indices"
      ]
    },
    {
      "cell_type": "code",
      "execution_count": null,
      "metadata": {
        "colab": {
          "base_uri": "https://localhost:8080/"
        },
        "id": "Jij5Vzr3lLfq",
        "outputId": "a064ba12-10ed-4fc8-d698-c5ed874805a9"
      },
      "outputs": [
        {
          "output_type": "execute_result",
          "data": {
            "text/plain": [
              "array([[1309, 1309, 1309, 1309, 1309, 1309, 1309, 1309, 1309],\n",
              "       [  10,  112,   36,   22,   18,   49,   46,   45,   27]])"
            ]
          },
          "metadata": {},
          "execution_count": 77
        }
      ],
      "source": [
        "filtered_array"
      ]
    },
    {
      "cell_type": "code",
      "execution_count": null,
      "metadata": {
        "colab": {
          "base_uri": "https://localhost:8080/"
        },
        "id": "-XwXwcyUhAz5",
        "outputId": "e9848227-a911-4565-a6ae-55c8976254a8"
      },
      "outputs": [
        {
          "output_type": "stream",
          "name": "stdout",
          "text": [
            "[0.93732, 0.10288419, 0.0007310741, 0.05689581, 0.01588221, 0.008741367, 0.04744864, 0.06512437, 0.0023383542]\n",
            "[1.0, 0.0, 0.0, 0.0, 0.0, 0.0, 0.0, 0.0, 0.0]\n"
          ]
        }
      ],
      "source": [
        "#np.unique(filtered_array[0])\n",
        "predictions_user = []\n",
        "ground_truth_user = []\n",
        "for i in indices:\n",
        "  predictions_user.append(pred[i])\n",
        "  ground_truth_user.append(ground_truth[i])\n",
        "print(predictions_user)\n",
        "print(ground_truth_user)"
      ]
    },
    {
      "cell_type": "code",
      "execution_count": null,
      "metadata": {
        "colab": {
          "base_uri": "https://localhost:8080/"
        },
        "id": "Ab5SeFg_gKzw",
        "outputId": "8ba6946a-5b17-4cce-ccff-b3c9000efe55"
      },
      "outputs": [
        {
          "output_type": "execute_result",
          "data": {
            "text/plain": [
              "Series([], Name: mappedID, dtype: int64)"
            ]
          },
          "metadata": {},
          "execution_count": 79
        }
      ],
      "source": [
        "unique_user_id[unique_user_id['Auth id'] == 'FR-FRM-CSU2AQG7N']['mappedID']"
      ]
    },
    {
      "cell_type": "code",
      "execution_count": null,
      "metadata": {
        "colab": {
          "base_uri": "https://localhost:8080/"
        },
        "id": "tZjQ-nceg6jY",
        "outputId": "501a6511-d8e6-4971-ebbe-b1f974b9b2c8"
      },
      "outputs": [
        {
          "output_type": "execute_result",
          "data": {
            "text/plain": [
              "Series([], Name: charging_point, dtype: int64)"
            ]
          },
          "metadata": {},
          "execution_count": 80
        }
      ],
      "source": [
        "sessions_df[sessions_df['Auth id'] == 'FR-FRM-CSU2AQG7N']['charging_point'].value_counts()"
      ]
    },
    {
      "cell_type": "code",
      "execution_count": null,
      "metadata": {
        "id": "n0pSbw6tX1dO"
      },
      "outputs": [],
      "source": [
        "indices = []\n",
        "for couple in edge_index_user_to_cs.numpy().T:\n",
        "    index = np.where((edge_label_index[0] == couple[0]) & (edge_label_index[1] == couple[1]))\n",
        "    if len(index[0]) > 0:\n",
        "        indices.append(index[0][0])\n",
        "    else:\n",
        "        indices.append(None)\n",
        "print(indices)"
      ]
    },
    {
      "cell_type": "code",
      "execution_count": null,
      "metadata": {
        "id": "aI9eCQuqjgRi"
      },
      "outputs": [],
      "source": [
        "'''def get_user_features(user_id):\n",
        "    user_features = torch.stack([\n",
        "        user_feat_1[unique_user_id[unique_user_id['Auth id'] == user_id]['mappedID'].index],\n",
        "        user_feat_2[unique_user_id[unique_user_id['Auth id'] == user_id]['mappedID'].index],\n",
        "        user_feat_3[unique_user_id[unique_user_id['Auth id'] == user_id]['mappedID'].index],\n",
        "        user_feat_4[unique_user_id[unique_user_id['Auth id'] == user_id]['mappedID'].index],\n",
        "        user_feat_5[unique_user_id[unique_user_id['Auth id'] == user_id]['mappedID'].index]\n",
        "    ], dim=0).to(device)\n",
        "    return user_features\n",
        "def get_cs_features(cs_id):\n",
        "cs_features = torch.stack([\n",
        "    cs_feat_1[unique_cs_id[unique_cs_id['charging_point'] == cs_id]['mappedID']],\n",
        "    cs_feat_2[unique_cs_id[unique_cs_id['charging_point'] == cs_id]['mappedID']],\n",
        "    cs_feat_3[unique_cs_id[unique_cs_id['charging_point'] == cs_id]['mappedID']],\n",
        "    cs_feat_4[unique_cs_id[unique_cs_id['charging_point'] == cs_id]['mappedID']],\n",
        "    cs_feat_5[unique_cs_id[unique_cs_id['charging_point'] == cs_id]['mappedID']],\n",
        "    cs_feat_6[unique_cs_id[unique_cs_id['charging_point'] == cs_id]['mappedID']],\n",
        "    cs_feat_7[unique_cs_id[unique_cs_id['charging_point'] == cs_id]['mappedID']],\n",
        "], dim=0).to(device)\n",
        "return cs_features\n",
        "#reverse scaling:\n",
        "#sessions_df[num_d.columns] = sc_user.inverse_transform(sessions_df[num_d.columns])\n",
        "sessions_user_id = pd.merge(sessions_df[sessions_df['Auth id'] == 'FR-FRM-CSU2AQG7N'] , unique_user_id,left_on='Auth id', right_on='Auth id', how='left')\n",
        "sessions_user_id = torch.from_numpy(sessions_user_id['mappedID'].values)\n",
        "sessions_cs_id = pd.merge(sessions_df[sessions_df['Auth id'] == 'FR-FRM-CSU2AQG7N']['charging_point'], unique_cs_id, left_on='charging_point', right_on='charging_point', how='left')\n",
        "sessions_cs_id =  torch.from_numpy(sessions_cs_id['mappedID'].values)\n",
        "edge_index_user_to_cs = torch.stack([sessions_user_id, sessions_cs_id], dim=0)'''"
      ]
    },
    {
      "cell_type": "markdown",
      "metadata": {
        "id": "UlNxwnV9KYRb"
      },
      "source": [
        "**Deuxième modèle avec Encoder-Decoder** GATConv"
      ]
    },
    {
      "cell_type": "code",
      "execution_count": null,
      "metadata": {
        "id": "BD04ubWncy2z"
      },
      "outputs": [],
      "source": [
        "class GNNEncoder(torch.nn.Module):\n",
        "    def __init__(self, hidden_channels, out_channels):\n",
        "        super().__init__()\n",
        "        self.conv1 = GATConv((-1, -1), hidden_channels,heads=1, add_self_loops=False)\n",
        "        self.conv2 = GATConv((-1, -1), out_channels,add_self_loops=False)\n",
        "        self.batchnorm = torch.nn.BatchNorm1d(out_channels)\n",
        "        self.dropout = torch.nn.Dropout(0.6)\n",
        "    def forward(self, x, edge_index,edge_attr):\n",
        "        x = self.conv1(x, edge_index,edge_attr)\n",
        "        x = self.batchnorm(x)\n",
        "        x = self.dropout(x).relu()\n",
        "        x = self.conv2(x, edge_index,edge_attr)\n",
        "        return x\n",
        "\n",
        "class EdgeDecoder(torch.nn.Module):\n",
        "    def __init__(self, hidden_channels):\n",
        "        super().__init__()\n",
        "        self.lin1 = Linear( hidden_channels, hidden_channels)\n",
        "        self.lin2 = Linear(hidden_channels, 1)\n",
        "        self.dropout = torch.nn.Dropout(0.6)\n",
        "    def forward(self, z_dict, edge_label_index):\n",
        "        row, col = edge_label_index\n",
        "        z = z_dict['user'][row] * z_dict['cs'][col]\n",
        "        z = F.relu(self.lin1(z))\n",
        "        z = self.dropout(z)\n",
        "        z = self.lin2(z)\n",
        "        z = torch.sigmoid(z).squeeze(-1) #remove last dimension\n",
        "        return z\n",
        "\n",
        "class Model_2(torch.nn.Module):\n",
        "    def __init__(self, hidden_channels):\n",
        "        super().__init__()\n",
        "        self.cs_lin = torch.nn.Linear(9, hidden_channels)\n",
        "        self.user_lin = torch.nn.Linear(4,hidden_channels)\n",
        "        self.user_emb = torch.nn.Embedding(data[\"user\"].num_nodes, hidden_channels)\n",
        "        self.cs_emb = torch.nn.Embedding(data[\"cs\"].num_nodes, hidden_channels)\n",
        "\n",
        "        self.encoder = GNNEncoder(hidden_channels,  hidden_channels)\n",
        "        self.encoder = to_hetero(self.encoder, data.metadata(), aggr='sum')\n",
        "        self.decoder = EdgeDecoder(hidden_channels)\n",
        "\n",
        "    def forward(self, data: HeteroData, edge_index_dict, edge_label_index,edge_attr_dict):\n",
        "        data.x_dict['user'] = self.user_lin(data['user'].x) + self.user_emb(data['user'].node_id)\n",
        "        data.x_dict['cs'] = self.cs_lin(data['cs'].x) + self.cs_emb(data['cs'].node_id)\n",
        "        z_dict = self.encoder(data.x_dict, edge_index_dict,edge_attr_dict)\n",
        "        return self.decoder(z_dict, edge_label_index)"
      ]
    },
    {
      "cell_type": "code",
      "execution_count": null,
      "metadata": {
        "colab": {
          "base_uri": "https://localhost:8080/",
          "height": 663
        },
        "id": "KwwmaKD5BK1_",
        "outputId": "852ada31-668c-4114-d18b-c8efd5ebe2f7"
      },
      "outputs": [
        {
          "output_type": "stream",
          "name": "stdout",
          "text": [
            "Epoch: 001, Loss: 0.7211, Val Loss: 0.5979\n",
            "Epoch: 002, Loss: 0.7213, Val Loss: 0.5993\n",
            "Epoch: 003, Loss: 0.7172, Val Loss: 0.6006\n",
            "Epoch: 004, Loss: 0.7181, Val Loss: 0.6020\n",
            "Epoch: 005, Loss: 0.7161, Val Loss: 0.6035\n",
            "Epoch: 006, Loss: 0.7138, Val Loss: 0.6050\n",
            "Epoch: 007, Loss: 0.7155, Val Loss: 0.6066\n",
            "Epoch: 008, Loss: 0.7158, Val Loss: 0.6083\n",
            "Epoch: 009, Loss: 0.7143, Val Loss: 0.6100\n",
            "Epoch: 010, Loss: 0.7088, Val Loss: 0.6118\n",
            "Early stopping triggered\n"
          ]
        },
        {
          "output_type": "display_data",
          "data": {
            "text/plain": [
              "<Figure size 640x480 with 1 Axes>"
            ],
            "image/png": "[encoded data removed]"
          },
          "metadata": {}
        }
      ],
      "source": [
        "model_2 = Model_2(hidden_channels=23).to(device)\n",
        "optimizer_2 = torch.optim.Adam(model_2.parameters(), lr=0.001)\n",
        "\n",
        "train_losses = []\n",
        "val_losses=[]\n",
        "best_val_loss = float('inf')\n",
        "patience = 10\n",
        "epochs_no_improve = 0\n",
        "for epoch in range(1, 600):\n",
        "    train_data.to(device)\n",
        "    total_loss = total_examples = 0\n",
        "    model_2.train()\n",
        "    optimizer_2.zero_grad()\n",
        "    pred = model_2(train_data, train_data.edge_index_dict, train_data['user', 'cs'].edge_label_index,train_data.edge_attr_dict)\n",
        "    ground_truth = train_data['user', 'cs'].edge_label\n",
        "    loss = F.binary_cross_entropy(pred, ground_truth)\n",
        "    loss.backward()\n",
        "    optimizer_2.step()\n",
        "    total_loss += float(loss) * pred.numel()\n",
        "    total_examples += pred.numel()\n",
        "    #avg loss for epoch\n",
        "    avg_loss =  total_loss / total_examples\n",
        "    train_losses.append(avg_loss)\n",
        "    #validation\n",
        "    model_2.eval()\n",
        "    total_val_loss = total_val_examples = 0\n",
        "    with torch.no_grad():\n",
        "      val_data.to(device)\n",
        "      val_pred = model_2(val_data, val_data.edge_index_dict, val_data['user', 'cs'].edge_label_index,val_data.edge_attr_dict)\n",
        "      val_ground_truth = val_data['user', 'cs'].edge_label\n",
        "      val_loss = F.binary_cross_entropy(val_pred, val_ground_truth)\n",
        "      total_val_loss += float(val_loss) * val_pred.numel()\n",
        "      total_val_examples +=val_pred.numel()\n",
        "    avg_val_loss = total_val_loss / total_val_examples\n",
        "    val_losses.append(avg_val_loss)\n",
        "    # Early Stopping Check\n",
        "    if avg_val_loss < best_val_loss:\n",
        "        best_val_loss = avg_val_loss\n",
        "        epochs_no_improve = 0  # reset counter if there is an improvement\n",
        "        torch.save(model.state_dict(), './model_link_pred_SageConv.pth')  # save the best model\n",
        "    else:\n",
        "        epochs_no_improve += 1\n",
        "    if epochs_no_improve == patience:\n",
        "        print(\"Early stopping triggered\")\n",
        "        break  # Break the loop if the patience has been reached\n",
        "\n",
        "    print(f\"Epoch: {epoch:03d}, Loss: {avg_loss:.4f}, Val Loss: {avg_val_loss:.4f}\")\n",
        "\n",
        "torch.save(model.state_dict(), './model_link_pred_GAT.pth')\n",
        "\n",
        "plt.plot(train_losses, label='Training Loss')\n",
        "plt.plot(val_losses, label='Validation Loss')\n",
        "plt.xlabel('Epoch')\n",
        "plt.ylabel('Loss')\n",
        "plt.title('Training Loss Curve')\n",
        "plt.legend()\n",
        "plt.show()"
      ]
    },
    {
      "cell_type": "code",
      "execution_count": null,
      "metadata": {
        "colab": {
          "base_uri": "https://localhost:8080/"
        },
        "id": "VUly2zUb4nXR",
        "outputId": "0c335acc-5a86-4df6-87ba-dca22099be10"
      },
      "outputs": [
        {
          "output_type": "stream",
          "name": "stdout",
          "text": [
            "\n",
            "Test AUC: 0.5612\n",
            "Accuracy: 0.4117\n",
            "Recall: 0.0000\n",
            "Precision: 0.0000\n"
          ]
        }
      ],
      "source": [
        "preds = []\n",
        "ground_truths = []\n",
        "with torch.no_grad():\n",
        "    test_data.to(device)\n",
        "    preds.append(model_2(test_data, test_data.edge_index_dict, test_data['user', 'cs'].edge_label_index,test_data.edge_attr_dict))\n",
        "    ground_truths.append(test_data['user', 'cs'].edge_label)\n",
        "\n",
        "pred = torch.cat(preds, dim=0).cpu().numpy()\n",
        "ground_truth = torch.cat(ground_truths, dim=0).cpu().numpy()\n",
        "\n",
        "binary_predictions = (pred > 0.5).astype(int)\n",
        "auc = roc_auc_score(ground_truth, pred)\n",
        "accuracy = accuracy_score(ground_truth, binary_predictions)\n",
        "recall = recall_score(ground_truth, binary_predictions)\n",
        "precision = precision_score(ground_truth, binary_predictions)\n",
        "\n",
        "print(f\"\\nTest AUC: {auc:.4f}\")\n",
        "print(f\"Accuracy: {accuracy:.4f}\")\n",
        "print(f\"Recall: {recall:.4f}\")\n",
        "print(f\"Precision: {precision:.4f}\")"
      ]
    },
    {
      "cell_type": "code",
      "source": [
        "!pip install pulp\n",
        "!pip install osmnx"
      ],
      "metadata": {
        "id": "Yat8b78nGZsz"
      },
      "execution_count": null,
      "outputs": []
    },
    {
      "cell_type": "markdown",
      "source": [
        "**Generate Data (locations of users (vehciles) and charging stations)**"
      ],
      "metadata": {
        "id": "-x84klRlWOXm"
      }
    },
    {
      "cell_type": "code",
      "source": [
        "import random\n",
        "import numpy as np\n",
        "import osmnx as ox\n",
        "\n",
        "city_bounds = {'min_lat': 3.1531, 'max_lat': 3.6694, 'min_lon':  47.7652, 'max_lon':48.2320} #Auxerre\n",
        "vehicles_data = [\n",
        "    {\"model\": \"Nissan Leaf\", \"battery_capacity_kWh\": 39},\n",
        "    {\"model\": \"Tesla Model 3 Long Range Dual Motor\", \"battery_capacity_kWh\": 75},\n",
        "    {\"model\": \"Hyundai IONIQ 5 Long Range 2WD\", \"battery_capacity_kWh\": 74},\n",
        "    {\"model\": \"Hyundai Kona Electric\", \"battery_capacity_kWh\": 65.4},\n",
        "    {\"model\": \"BMW iX3\", \"battery_capacity_kWh\": 74},\n",
        "    {\"model\": \"Mercedes-Benz EQS 450 4MATIC\", \"battery_capacity_kWh\": 108.4},\n",
        "    {\"model\": \"Renault Twingo Electric\", \"battery_capacity_kWh\": 21.3},\n",
        "    {\"model\": \"Porsche Taycan Turbo\", \"battery_capacity_kWh\": 97},\n",
        "    {\"model\": \"Audi SQ6 e-tron\", \"battery_capacity_kWh\": 94.9},\n",
        "    {\"model\": \"Volkswagen ID.4 GTX\", \"battery_capacity_kWh\": 77},]\n",
        "\n",
        "charging_stations = [{'lat':47.79613 , 'lon': 3.56364}, {'lat': 47.86908, 'lon': 3.45092},\n",
        "                      {'lat': 47.94329,  'lon': 3.48604}, {'lat': 47.80642,  'lon': 3.63664},\n",
        "                      {'lat': 47.95174,  'lon': 3.43875},\n",
        "                      ]\n",
        "average_efficiency_km_per_kWh = 6.5 #une approximation\n",
        "# Constants for conversion\n",
        "meters_per_degree_lat = 111320\n",
        "meters_per_degree_lon = 85000  # Approximation at latitude ~48 degrees\n",
        "radius_meters = 500  # The radius within which we want to generate vehicle locations\n",
        "\n",
        "# Convert radius to degrees\n",
        "radius_lat = radius_meters / meters_per_degree_lat\n",
        "radius_lon = radius_meters / meters_per_degree_lon\n",
        "def simulated_vehicles_around_stations(vehicles_data,charging_stations,radius_lat,radius_lon):\n",
        "  for vehicle in vehicles_data:\n",
        "      vehicle['max_distance_km'] = vehicle['battery_capacity_kWh'] * average_efficiency_km_per_kWh\n",
        "  simulated_vehicles = []\n",
        "  for station in charging_stations:\n",
        "      chosen_vehicle = random.choice(vehicles_data)\n",
        "      lat_offset = random.uniform(-radius_lat, radius_lat)\n",
        "      lon_offset = random.uniform(-radius_lon, radius_lon)\n",
        "      new_lat = station['lat'] + lat_offset\n",
        "      new_lon = station['lon'] + lon_offset\n",
        "      for _ in range(2):\n",
        "        vehicle_simulation = {\n",
        "            'model': chosen_vehicle['model'],\n",
        "            'lat': new_lat,\n",
        "            'lon': new_lon,\n",
        "            'SoC': random.uniform(10, 50),  # Assuming SoC is between 20% and 80%\n",
        "            'max_distance_km': chosen_vehicle['max_distance_km'] * (random.uniform(10, 50) / 100.0)  # Adjust max_distance based on SoC\n",
        "        }\n",
        "        simulated_vehicles.append(vehicle_simulation)\n",
        "  return simulated_vehicles\n",
        "simulated_vehicles = simulated_vehicles_around_stations(vehicles_data,charging_stations,radius_lat,radius_lon)"
      ],
      "metadata": {
        "id": "4_HiwQzWWTPe"
      },
      "execution_count": 20,
      "outputs": []
    },
    {
      "cell_type": "code",
      "source": [
        "print(simulated_vehicles)"
      ],
      "metadata": {
        "id": "bvlrCqQS4e1h",
        "colab": {
          "base_uri": "https://localhost:8080/"
        },
        "outputId": "f41cd0d9-940f-4a25-b7cf-e2b3b8747d49"
      },
      "execution_count": 23,
      "outputs": [
        {
          "output_type": "stream",
          "name": "stdout",
          "text": [
            "[{'model': 'Tesla Model 3 Long Range Dual Motor', 'lat': 47.792157278874264, 'lon': 3.5680698866383067, 'SoC': 37.39030336324964, 'max_distance_km': 180.4697209131263}, {'model': 'Tesla Model 3 Long Range Dual Motor', 'lat': 47.792157278874264, 'lon': 3.5680698866383067, 'SoC': 47.66036067282306, 'max_distance_km': 209.642238033313}, {'model': 'Audi SQ6 e-tron', 'lat': 47.871523363969175, 'lon': 3.4469598787078817, 'SoC': 30.599033098601044, 'max_distance_km': 173.139832619949}, {'model': 'Audi SQ6 e-tron', 'lat': 47.871523363969175, 'lon': 3.4469598787078817, 'SoC': 43.453131038925, 'max_distance_km': 212.5402921307436}, {'model': 'Renault Twingo Electric', 'lat': 47.940911834399124, 'lon': 3.481239792305705, 'SoC': 18.58576666300822, 'max_distance_km': 29.818488096130295}, {'model': 'Renault Twingo Electric', 'lat': 47.940911834399124, 'lon': 3.481239792305705, 'SoC': 37.41829806734427, 'max_distance_km': 41.470583503199755}, {'model': 'Volkswagen ID.4 GTX', 'lat': 47.805280878831184, 'lon': 3.634600177593911, 'SoC': 18.105566690038437, 'max_distance_km': 199.51347036758}, {'model': 'Volkswagen ID.4 GTX', 'lat': 47.805280878831184, 'lon': 3.634600177593911, 'SoC': 43.58587900052854, 'max_distance_km': 106.72971388804396}, {'model': 'Porsche Taycan Turbo', 'lat': 47.948851303204016, 'lon': 3.4397767914991313, 'SoC': 30.799360429231342, 'max_distance_km': 164.22113847694337}, {'model': 'Porsche Taycan Turbo', 'lat': 47.948851303204016, 'lon': 3.4397767914991313, 'SoC': 29.496389221755024, 'max_distance_km': 292.57314820904224}]\n"
          ]
        }
      ]
    },
    {
      "cell_type": "code",
      "source": [
        "G = ox.graph_from_place('Yonne, France', network_type='drive')\n",
        "#ox.plot_graph(G)"
      ],
      "metadata": {
        "id": "uRudJpVx0PKP"
      },
      "execution_count": 6,
      "outputs": []
    },
    {
      "cell_type": "code",
      "source": [
        "def nearest_node_stations(charging_stations,G):\n",
        "  for station in charging_stations:\n",
        "    station['station_st_node_id'] = ox.distance.nearest_nodes(G, [station['lon']], [station['lat']])[0]\n",
        "    print(station)\n",
        "def nearest_node_vehicles(simulated_vehicles,G):\n",
        "  for vehicle in simulated_vehicles:\n",
        "    vehicle['vehicle_st_node_id'] = ox.distance.nearest_nodes(G, [vehicle['lon']], [vehicle['lat']])[0]\n",
        "    print(vehicle)\n",
        "nearest_node_stations(charging_stations,G)\n",
        "nearest_node_vehicles(simulated_vehicles,G)"
      ],
      "metadata": {
        "id": "rQqLh-TFeTWg"
      },
      "execution_count": null,
      "outputs": []
    },
    {
      "cell_type": "code",
      "source": [
        "import networkx as nx\n",
        "def calculate_travel_time(simulated_vehicles,charging_stations,G):\n",
        "  travel_times = {}\n",
        "  i = 0\n",
        "  for vehicle in simulated_vehicles:\n",
        "    j = 0\n",
        "    for station in charging_stations:\n",
        "        travel_time =  nx.shortest_path_length(G, vehicle['vehicle_st_node_id'], station['station_st_node_id'], weight='time')\n",
        "        travel_times[i , j] = travel_time\n",
        "        j = j+1\n",
        "    i = i + 1\n",
        "  return travel_times\n",
        "travel_times = calculate_travel_time(simulated_vehicles,charging_stations,G)\n",
        "travel_times"
      ],
      "metadata": {
        "id": "rr5AtPlzsFtV"
      },
      "execution_count": null,
      "outputs": []
    },
    {
      "cell_type": "markdown",
      "source": [
        "### **Autre methode**"
      ],
      "metadata": {
        "id": "cx2GUNoXX6hs"
      }
    },
    {
      "cell_type": "code",
      "source": [
        "import pulp\n",
        "\n",
        "num_users = 10\n",
        "num_stations = 4\n",
        "time_steps = [10, 20, 30, 40, 50, 60]  # time steps in minutes\n",
        "\n",
        "'''travel_times = {\n",
        "    (0, 0): 15, (0, 1): 25, (0, 2): 35,\n",
        "    (1, 0): 10, (1, 1): 20, (1, 2): 30,\n",
        "    (2, 0): 20, (2, 1): 10, (2, 2): 25\n",
        "}'''\n",
        "\n",
        "availability = {\n",
        "    'Station0': {10: 1, 20: 1, 30: 0, 40: 0, 50: 0, 60: 0},\n",
        "    'Station1': {10: 0, 20: 1, 30: 1, 40: 1, 50: 1, 60: 1},\n",
        "    'Station2': {10: 0, 20: 0, 30: 1, 40: 1, 50: 1, 60: 1},\n",
        "    'Station3': {10: 1, 20: 1, 30: 1, 40: 0, 50: 0, 60: 0}\n",
        "}"
      ],
      "metadata": {
        "id": "Em5xXqVo7N_Q"
      },
      "execution_count": 26,
      "outputs": []
    },
    {
      "cell_type": "code",
      "source": [
        "def random_heuristic_assignment(users, stations, travel_times, availability):\n",
        "    # Assign users randomly to stations\n",
        "    assignments = {}\n",
        "    for user in range(users):\n",
        "        # Select a random station for each user\n",
        "        assigned_station = random.randint(0, stations - 1)\n",
        "        assignments[user] = assigned_station\n",
        "\n",
        "    return assignments\n",
        "\n",
        "def nearest_heuristic_assignment(users, stations, travel_times, availability):\n",
        "    # Assign users to the nearest station based on travel time\n",
        "    assignments = {}\n",
        "    for user in range(users):\n",
        "        min_travel_time = float('inf')\n",
        "        assigned_station = None\n",
        "        for station in range(stations):\n",
        "            if travel_times[(user, station)] < min_travel_time:\n",
        "                min_travel_time = travel_times[(user, station)]\n",
        "                assigned_station = station\n",
        "        assignments[user] = assigned_station\n",
        "    return assignments\n",
        "\n",
        "def calculate_wait_time_for_assignment(users, stations, travel_times, availability,assignments):\n",
        "    # Convert availability to a more manageable format\n",
        "    station_avail = {i: [] for i in range(stations)}\n",
        "    for station, times in availability.items():\n",
        "        station_index = int(station[-1])   # Convert 'Station1' to 0 index\n",
        "        for time, avail in times.items():\n",
        "            if avail == 0:  # 0 means free\n",
        "                station_avail[station_index].append(time)\n",
        "\n",
        "    # Sort availability times for each station\n",
        "    for station in station_avail:\n",
        "        station_avail[station].sort()\n",
        "\n",
        "    # Step 2: Calculate waiting times\n",
        "    waiting_times = {}\n",
        "    total_time = {}\n",
        "    station_next_free_time = {station: 0 for station in range(stations)}\n",
        "    for user, station in assignments.items():\n",
        "        travel_time = travel_times[(user, station)]\n",
        "        # Find the next available time that is after the user's travel time\n",
        "        available_times = [time for time in station_avail[station] if time >= station_next_free_time[station]]\n",
        "        if not available_times:\n",
        "            assigned_time = 0 #station_next_free_time[station]\n",
        "            total_time[user] = 0\n",
        "        else:\n",
        "            assigned_time = available_times[0] #assign to the first avialble time\n",
        "\n",
        "            waiting_time = max(0, assigned_time - travel_time)\n",
        "            waiting_times[user] = travel_time + waiting_time\n",
        "            total_time[user] = waiting_times[user] + travel_time\n",
        "            station_next_free_time[station] = assigned_time + 10\n",
        "\n",
        "    return assignments, total_time\n",
        "\n",
        "random_assignment = random_heuristic_assignment(num_users, num_stations, travel_times, availability)\n",
        "random_assignment, random_total_time = calculate_wait_time_for_assignment(num_users, num_stations, travel_times, availability,random_assignment)\n",
        "nearest_assignments = nearest_heuristic_assignment(num_users, num_stations, travel_times, availability)\n",
        "nearest_assignments, nearest_total_time = calculate_wait_time_for_assignment(num_users, num_stations, travel_times, availability,nearest_assignments)\n",
        "print('\\n Nearest Station assignements----------')\n",
        "for user, station in nearest_assignments.items():\n",
        "    print(f\"User {user} assigned to Station {station } total waiting time is {nearest_total_time[user]}\")\n",
        "print('\\n Random assignements----------')\n",
        "for user, station in random_assignment.items():\n",
        "    print(f\"User {user} assigned to Station {station } total waiting time is {random_total_time[user]}\")"
      ],
      "metadata": {
        "colab": {
          "base_uri": "https://localhost:8080/"
        },
        "id": "CShrxv7aC_5G",
        "outputId": "2cb39057-0ddd-4d68-a902-c9cfac3ad8b7"
      },
      "execution_count": 27,
      "outputs": [
        {
          "output_type": "stream",
          "name": "stdout",
          "text": [
            "\n",
            " Nearest Station assignements----------\n",
            "User 0 assigned to Station 0 total waiting time is 37\n",
            "User 1 assigned to Station 0 total waiting time is 47\n",
            "User 2 assigned to Station 1 total waiting time is 13\n",
            "User 3 assigned to Station 1 total waiting time is 0\n",
            "User 4 assigned to Station 2 total waiting time is 16\n",
            "User 5 assigned to Station 2 total waiting time is 26\n",
            "User 6 assigned to Station 3 total waiting time is 45\n",
            "User 7 assigned to Station 3 total waiting time is 55\n",
            "User 8 assigned to Station 2 total waiting time is 0\n",
            "User 9 assigned to Station 2 total waiting time is 0\n",
            "\n",
            " Random assignements----------\n",
            "User 0 assigned to Station 3 total waiting time is 84\n",
            "User 1 assigned to Station 2 total waiting time is 108\n",
            "User 2 assigned to Station 2 total waiting time is 50\n",
            "User 3 assigned to Station 0 total waiting time is 76\n",
            "User 4 assigned to Station 2 total waiting time is 0\n",
            "User 5 assigned to Station 1 total waiting time is 40\n",
            "User 6 assigned to Station 2 total waiting time is 0\n",
            "User 7 assigned to Station 0 total waiting time is 88\n",
            "User 8 assigned to Station 0 total waiting time is 106\n",
            "User 9 assigned to Station 0 total waiting time is 113\n"
          ]
        }
      ]
    },
    {
      "cell_type": "code",
      "source": [
        "def MILP_assignement(num_users,num_stations,availability,time_steps,travel_times):\n",
        "  model = pulp.LpProblem(\"Charging_Station_Assignment\", pulp.LpMinimize)\n",
        "  # X[u][s][t] = 1 if user 'u' is assigned to station 's' at time 't'\n",
        "  X = pulp.LpVariable.dicts(\"X\", ((u, s, t) for u in range(num_users)\n",
        "                                        for s in range(num_stations)\n",
        "                                        for t in time_steps), cat='Binary')\n",
        "  # Define a variable for waiting time for simplicity, although not directly used in constraints\n",
        "  W = pulp.LpVariable.dicts(\"W\", (u for u in range(num_users)), lowBound=0, cat='Continuous')\n",
        "  model += pulp.lpSum([W[u] for u in range(num_users)])\n",
        "  # Constraint 1: Each user is assigned to one station and one time step only\n",
        "  for u in range(num_users):\n",
        "      model += pulp.lpSum([X[u, s, t] for s in range(num_stations) for t in time_steps]) == 1\n",
        "\n",
        "  # Constraint 2: A station can serve only one user at a time step\n",
        "  for s in range(num_stations):\n",
        "      for t in time_steps:\n",
        "          model += pulp.lpSum([X[u, s, t] for u in range(num_users)]) <= (0 if availability[f'Station{s}'][t] == 1 else 1)\n",
        "\n",
        "  # Constraint 3: Incorporate travel times and availability\n",
        "  for u in range(num_users):\n",
        "      for s in range(num_stations):\n",
        "          for t in time_steps:\n",
        "              # If user arrives before the time step, they can be considered for assignment\n",
        "              arrival_time = travel_times[(u, s)]\n",
        "              model += X[u, s, t] == 0 if arrival_time > t else X[u, s, t]\n",
        "\n",
        "  model.solve()\n",
        "  lp_waiting_times = {}\n",
        "  print('\\n MILP assignements----------')\n",
        "  for u in range(num_users):\n",
        "      for s in range(num_stations):\n",
        "          for t in time_steps:\n",
        "              if pulp.value(X[u, s, t]) == 1:\n",
        "                  lp_waiting_times[u] = t + travel_times[(u, s)]\n",
        "                  print(f\"User {u} assigned to Station {s} at time {t} minutes, waiting time is {t + travel_times[(u, s)]}\")\n",
        "  return lp_waiting_times\n",
        "lp_waiting_times = MILP_assignement(num_users,num_stations,availability,time_steps,travel_times)"
      ],
      "metadata": {
        "colab": {
          "base_uri": "https://localhost:8080/"
        },
        "id": "fis8DIdt7F8W",
        "outputId": "616f4ebf-986a-4983-f893-cc65aa962dcf"
      },
      "execution_count": 62,
      "outputs": [
        {
          "output_type": "stream",
          "name": "stdout",
          "text": [
            "\n",
            " MILP assignements----------\n",
            "User 0 assigned to Station 0 at time 60 minutes, waiting time is 67\n",
            "User 1 assigned to Station 0 at time 30 minutes, waiting time is 37\n",
            "User 2 assigned to Station 0 at time 40 minutes, waiting time is 78\n",
            "User 3 assigned to Station 1 at time 10 minutes, waiting time is 13\n",
            "User 4 assigned to Station 2 at time 10 minutes, waiting time is 16\n",
            "User 5 assigned to Station 3 at time 50 minutes, waiting time is 97\n",
            "User 6 assigned to Station 3 at time 40 minutes, waiting time is 45\n",
            "User 7 assigned to Station 0 at time 50 minutes, waiting time is 94\n",
            "User 8 assigned to Station 3 at time 60 minutes, waiting time is 114\n",
            "User 9 assigned to Station 2 at time 20 minutes, waiting time is 37\n"
          ]
        },
        {
          "output_type": "stream",
          "name": "stderr",
          "text": [
            "/usr/local/lib/python3.10/dist-packages/pulp/pulp.py:1675: UserWarning: Overwriting previously set objective.\n",
            "  warnings.warn(\"Overwriting previously set objective.\")\n"
          ]
        }
      ]
    },
    {
      "cell_type": "code",
      "source": [
        "print(\"User Waiting Times Comparison:\")\n",
        "print(\"User\\tRandom\\tHeuristic\\tLP\")\n",
        "for user in range(num_users):\n",
        "    heuristic_time = nearest_total_time[user] if nearest_total_time[user] is not None else \"No Assignment\"\n",
        "    random_time = random_total_time[user] if random_total_time[user] is not None else \"No Assignment\"\n",
        "    lp_time = lp_waiting_times.get(user, \"No Assignment\")\n",
        "    print(f\"{user}\\t{random_time}\\t\\t{heuristic_time}\\t{lp_time}\")\n"
      ],
      "metadata": {
        "colab": {
          "base_uri": "https://localhost:8080/"
        },
        "id": "IB5U5pw8cKkI",
        "outputId": "5ff9bd48-ee94-4582-a922-506855aac940"
      },
      "execution_count": 63,
      "outputs": [
        {
          "output_type": "stream",
          "name": "stdout",
          "text": [
            "User Waiting Times Comparison:\n",
            "User\tRandom\tHeuristic\tLP\n",
            "0\t84\t\t37\t67\n",
            "1\t108\t\t47\t37\n",
            "2\t50\t\t13\t78\n",
            "3\t76\t\t0\t13\n",
            "4\t0\t\t16\t16\n",
            "5\t40\t\t26\t97\n",
            "6\t0\t\t45\t45\n",
            "7\t88\t\t55\t94\n",
            "8\t106\t\t0\t114\n",
            "9\t113\t\t0\t37\n"
          ]
        }
      ]
    },
    {
      "cell_type": "code",
      "source": [
        "import matplotlib.pyplot as plt\n",
        "import numpy as np\n",
        "\n",
        "# Assuming you have these dictionaries filled with waiting times for each user\n",
        "heuristic_waiting_times = nearest_total_time  # Replace with actual data\n",
        "# Ensure all users are represented, even if one method has no assignment for them\n",
        "all_users = sorted(set(heuristic_waiting_times.keys()).union(set(lp_waiting_times.keys())))\n",
        "\n",
        "# Gather data for plotting\n",
        "heuristic_times = [heuristic_waiting_times.get(user, 0) for user in all_users]\n",
        "lp_times = [lp_waiting_times.get(user, 0) for user in all_users]\n",
        "random_time = [random_total_time.get(user, 0) for user in all_users]\n",
        "# Define the plot\n",
        "fig, ax = plt.subplots()\n",
        "\n",
        "# Set position of bar on X axis\n",
        "barWidth = 0.3\n",
        "r1 = np.arange(len(all_users))\n",
        "r2 = [x + barWidth for x in r1]\n",
        "r3 = [x + barWidth for x in r2]\n",
        "\n",
        "# Make the plot\n",
        "ax.bar(r1, heuristic_times, color='b', width=barWidth, edgecolor='grey', label='Heuristic')\n",
        "ax.bar(r2, lp_times, color='r', width=barWidth, edgecolor='grey', label='MILP')\n",
        "ax.bar(r3, random_time, color='g', width=barWidth, edgecolor='green', label='Random')\n",
        "\n",
        "# Add xticks on the middle of the group bars\n",
        "ax.set_xlabel('User', fontweight='bold')\n",
        "ax.set_ylabel('Waiting Time', fontweight='bold')\n",
        "ax.set_xticks([r + barWidth for r in range(len(all_users))])\n",
        "ax.set_xticklabels(all_users)\n",
        "\n",
        "# Create legend & Show graphic\n",
        "ax.legend()\n",
        "plt.show()"
      ],
      "metadata": {
        "colab": {
          "base_uri": "https://localhost:8080/",
          "height": 449
        },
        "id": "GrBnUbAxP0AA",
        "outputId": "c0d09b47-f275-41e4-dab6-f020f51a5d5e"
      },
      "execution_count": 64,
      "outputs": [
        {
          "output_type": "display_data",
          "data": {
            "text/plain": [
              "<Figure size 640x480 with 1 Axes>"
            ],
            "image/png": "[encoded data removed]"
          },
          "metadata": {}
        }
      ]
    },
    {
      "cell_type": "markdown",
      "source": [
        "**Deuxième scénario**"
      ],
      "metadata": {
        "id": "PyHmNpNzobXy"
      }
    },
    {
      "cell_type": "code",
      "source": [
        "num_users = 10\n",
        "num_stations = 4\n",
        "time_steps = [10, 20, 30, 40, 50, 60]  # time steps in minutes\n",
        "\n",
        "'''travel_times = {\n",
        "    (0, 0): 15, (0, 1): 25, (0, 2): 35,\n",
        "    (1, 0): 10, (1, 1): 20, (1, 2): 30,\n",
        "    (2, 0): 20, (2, 1): 10, (2, 2): 25\n",
        "}'''\n",
        "\n",
        "availability = {\n",
        "    'Station0': {10: 1, 20: 1, 30: 0, 40: 0, 50: 0, 60: 0},\n",
        "    'Station1': {10: 0, 20: 1, 30: 1, 40: 1, 50: 1, 60: 1},\n",
        "    'Station2': {10: 0, 20: 0, 30: 1, 40: 1, 50: 1, 60: 1},\n",
        "    'Station3': {10: 1, 20: 1, 30: 1, 40: 0, 50: 0, 60: 0}\n",
        "}\n",
        "\n",
        "charging_stations = [{'lat':47.79613 , 'lon': 3.56364}, {'lat': 47.86908, 'lon': 3.45092},\n",
        "                      {'lat': 47.94329,  'lon': 3.48604}, {'lat': 47.80642,  'lon': 3.63664},\n",
        "                      {'lat': 47.95174,  'lon': 3.43875},\n",
        "                      ]\n",
        "average_efficiency_km_per_kWh = 6.5 #une approximation\n",
        "# Constants for conversion\n",
        "meters_per_degree_lat = 111320\n",
        "meters_per_degree_lon = 85000  # Approximation at latitude ~48 degrees\n",
        "radius_meters = 500  # The radius within which we want to generate vehicle locations"
      ],
      "metadata": {
        "id": "ZCS8lokFofvR"
      },
      "execution_count": null,
      "outputs": []
    },
    {
      "cell_type": "code",
      "source": [],
      "metadata": {
        "id": "rRe08HWTpQmF"
      },
      "execution_count": null,
      "outputs": []
    },
    {
      "cell_type": "markdown",
      "source": [
        "**Genetic Algorithm**"
      ],
      "metadata": {
        "id": "ecP_QvJsnjf4"
      }
    },
    {
      "cell_type": "code",
      "source": [
        "import random\n",
        "import numpy as np\n",
        "\n",
        "def evaluate_fitness(individual, travel_times, availability, time_steps):\n",
        "    total_wait_time = 0\n",
        "    station_time_allocations = {s: list(time_steps) for s in range(num_stations)}  # Track available time slots\n",
        "\n",
        "    for user, station in enumerate(individual):\n",
        "        travel_time = travel_times[(user, station)]\n",
        "        # Find the next available time slot\n",
        "        available_times = station_time_allocations[station]\n",
        "        assigned_time = None\n",
        "        for time in available_times:\n",
        "            if time >= travel_time:  # Considering travel time\n",
        "                assigned_time = time\n",
        "                break\n",
        "        if assigned_time is not None:\n",
        "            wait_time = assigned_time - travel_time\n",
        "            total_wait_time += wait_time\n",
        "            station_time_allocations[station].remove(assigned_time)  # Allocate time slot, remove from availability\n",
        "        else:\n",
        "            total_wait_time += 10000  # Apply penalty for users who cannot be assigned\n",
        "\n",
        "    return 1 / (1 + total_wait_time)  # Fitness function\n",
        "\n",
        "def generate_population(size, num_users, num_stations):\n",
        "    return [random.choices(range(num_stations), k=num_users) for _ in range(size)]\n",
        "\n",
        "def select_parents(population, fitnesses, num_parents):\n",
        "    parents = random.choices(population, weights=fitnesses, k=num_parents)\n",
        "    return parents\n",
        "\n",
        "def crossover(parent1, parent2):\n",
        "    point = random.randint(1, len(parent1) - 1)\n",
        "    child1 = parent1[:point] + parent2[point:]\n",
        "    child2 = parent2[:point] + parent1[point:]\n",
        "    return child1, child2\n",
        "\n",
        "def mutate(child, num_stations, mutation_rate=0.1):\n",
        "    if random.random() < mutation_rate:\n",
        "        index = random.randint(0, len(child) - 1)\n",
        "        child[index] = random.randint(0, num_stations - 1)\n",
        "    return child\n",
        "\n",
        "def genetic_algorithm(travel_times, availability, time_steps, num_generations=100, population_size=50, num_parents=10, mutation_rate=0.1):\n",
        "    population = generate_population(population_size, num_users, num_stations)\n",
        "    for generation in range(num_generations):\n",
        "        fitnesses = [evaluate_fitness(individual, travel_times, availability, time_steps) for individual in population]\n",
        "        new_population = []\n",
        "        for _ in range(population_size // 2):\n",
        "            parents = select_parents(population, fitnesses, 2)\n",
        "            child1, child2 = crossover(parents[0], parents[1])\n",
        "            child1 = mutate(child1, num_stations, mutation_rate)\n",
        "            child2 = mutate(child2, num_stations, mutation_rate)\n",
        "            new_population.extend([child1, child2])\n",
        "        population = new_population\n",
        "    # Return the best solution\n",
        "    best_fitness = max(fitnesses)\n",
        "    best_index = fitnesses.index(best_fitness)\n",
        "    return population[best_index]\n",
        "\n",
        "best_solution = genetic_algorithm(travel_times, availability, time_steps)\n",
        "print(\"Best Solution:\", best_solution)\n"
      ],
      "metadata": {
        "colab": {
          "base_uri": "https://localhost:8080/"
        },
        "id": "EEv7qp8tntE7",
        "outputId": "07598de6-ecf3-4327-82ea-2450a59d6f8d"
      },
      "execution_count": 61,
      "outputs": [
        {
          "output_type": "stream",
          "name": "stdout",
          "text": [
            "Best Solution: [0, 1, 0, 3, 1, 2, 1, 2, 1, 2]\n"
          ]
        }
      ]
    },
    {
      "cell_type": "code",
      "source": [
        "# Adjusted Function to Calculate Waiting Times for Each User\n",
        "def calculate_individual_waiting_times(individual, travel_times, availability, time_steps):\n",
        "    user_waiting_times = []\n",
        "    for i, station in enumerate(individual):\n",
        "        travel_time = travel_times.get((i, station), float('inf'))\n",
        "        waiting_time = 0\n",
        "        for time in time_steps:\n",
        "            if availability[f'Station{station}'][time] == 0:  # Station is free\n",
        "                if time >= travel_time:  # User arrives before or at the time station becomes available\n",
        "                    waiting_time = max(0, time - travel_time)\n",
        "\n",
        "                break\n",
        "            if time == time_steps[-1]:  # User couldn't be assigned within the given time steps\n",
        "                waiting_time = float('inf')\n",
        "        user_waiting_times.append((station, travel_time, waiting_time))\n",
        "    return user_waiting_times\n",
        "\n",
        "# Function to Print Detailed Assignment and Waiting Times\n",
        "def print_user_assignments_and_waiting_times(best_solution, travel_times, availability, time_steps):\n",
        "    user_details = calculate_individual_waiting_times(best_solution, travel_times, availability, time_steps)\n",
        "    print(\"User | Assigned Station | Travel Time | Waiting Time\")\n",
        "    print(\"-----------------------------------------------------\")\n",
        "    for user, (station, travel_time, waiting_time) in enumerate(user_details):\n",
        "        total_waiting_time = travel_time + waiting_time if waiting_time != float('inf') else \"Not Assignable\"\n",
        "        print(f\"{user}    | {station}               | {travel_time}         | {total_waiting_time}\")\n",
        "\n",
        "# Example: Running the GA and printing the results\n",
        "best_solution = genetic_algorithm(travel_times, availability, time_steps)\n",
        "print(\"Best Solution:\", best_solution)\n",
        "print_user_assignments_and_waiting_times(best_solution, travel_times, availability, time_steps)\n"
      ],
      "metadata": {
        "colab": {
          "base_uri": "https://localhost:8080/"
        },
        "id": "oRaE5X6hVg4T",
        "outputId": "f85c456f-6227-4b7e-c161-d2fb8fd06c31"
      },
      "execution_count": 59,
      "outputs": [
        {
          "output_type": "stream",
          "name": "stdout",
          "text": [
            "Best Solution: [0, 1, 3, 0, 1, 0, 2, 1, 0, 1]\n",
            "23\n",
            "User | Assigned Station | Travel Time | Waiting Time\n",
            "-----------------------------------------------------\n",
            "0    | 0               | 7         | 30\n",
            "1    | 1               | 44         | 44\n",
            "2    | 3               | 48         | 48\n",
            "3    | 0               | 38         | 38\n",
            "4    | 1               | 20         | 20\n",
            "5    | 0               | 45         | 45\n",
            "6    | 2               | 47         | 47\n",
            "7    | 1               | 39         | 39\n",
            "8    | 0               | 53         | 53\n",
            "9    | 1               | 26         | 26\n"
          ]
        }
      ]
    }
  ],
  "metadata": {
    "colab": {
      "provenance": [],
      "gpuType": "T4",
      "authorship_tag": "ABX9TyPI1HdOgZORgU+otBD4NtNu",
      "include_colab_link": true
    },
    "kernelspec": {
      "display_name": "Python 3",
      "name": "python3"
    },
    "language_info": {
      "name": "python"
    },
    "accelerator": "GPU"
  },
  "nbformat": 4,
  "nbformat_minor": 0
}